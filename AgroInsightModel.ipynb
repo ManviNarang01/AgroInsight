{
  "nbformat": 4,
  "nbformat_minor": 0,
  "metadata": {
    "colab": {
      "provenance": [],
      "authorship_tag": "ABX9TyNWgAoc11W4iJr2/Zv0l5J/",
      "include_colab_link": true
    },
    "kernelspec": {
      "name": "python3",
      "display_name": "Python 3"
    },
    "language_info": {
      "name": "python"
    }
  },
  "cells": [
    {
      "cell_type": "markdown",
      "metadata": {
        "id": "view-in-github",
        "colab_type": "text"
      },
      "source": [
        "<a href=\"https://colab.research.google.com/github/ManviNarang01/AgroInsight/blob/main/AgroInsightModel.ipynb\" target=\"_parent\"><img src=\"https://colab.research.google.com/assets/colab-badge.svg\" alt=\"Open In Colab\"/></a>"
      ]
    },
    {
      "cell_type": "code",
      "source": [
        "import pandas as pd\n",
        "from sklearn.model_selection import train_test_split\n",
        "from xgboost import XGBRegressor\n",
        "from sklearn.metrics import mean_squared_error\n",
        "from sklearn.ensemble import RandomForestClassifier\n",
        "from sklearn.metrics import accuracy_score, classification_report\n",
        "from sklearn.preprocessing import StandardScaler, LabelEncoder\n",
        "from sklearn.impute import SimpleImputer\n",
        "from sklearn.compose import ColumnTransformer\n",
        "from sklearn.pipeline import make_pipeline"
      ],
      "metadata": {
        "id": "CNZ7SFDzvJLI"
      },
      "execution_count": null,
      "outputs": []
    },
    {
      "cell_type": "code",
      "source": [
        "# Setting up data types for columns in the weather and crop datasets.\n",
        "dtype_weather = {\n",
        "    'time': str,\n",
        "}\n",
        "dtype_crop = {\n",
        "    'N': int,\n",
        "    'P': int,\n",
        "    'K': int,\n",
        "    'temperature': float,\n",
        "    'humidity': float,\n",
        "    'ph': float,\n",
        "    'rainfall': float,\n",
        "    'label': str\n",
        "}"
      ],
      "metadata": {
        "id": "54g_Qe0Pwm_T"
      },
      "execution_count": null,
      "outputs": []
    },
    {
      "cell_type": "code",
      "source": [
        "# Loading the weather data while ensuring each column is of the right type.\n",
        "weather_data = pd.read_csv('weather.csv', dtype=dtype_weather)"
      ],
      "metadata": {
        "id": "W4-hFValwnFU"
      },
      "execution_count": null,
      "outputs": []
    },
    {
      "cell_type": "code",
      "source": [
        "# Filtering out invalid 'time' rows and converting them into datetime objects.\n",
        "weather_data = weather_data[weather_data['time'].apply(lambda x: 'T' in str(x))]\n",
        "weather_data['time'] = pd.to_datetime(weather_data['time'])"
      ],
      "metadata": {
        "id": "5yXdxzL6wu5j"
      },
      "execution_count": null,
      "outputs": []
    },
    {
      "cell_type": "code",
      "source": [
        "# Extracting the date from the datetime object to simplify future analysis.\n",
        "weather_data['date'] = weather_data['time'].dt.date\n",
        "\n",
        "# Dropping the 'time' column as it's no longer needed after extracting the date.\n",
        "weather_data = weather_data.drop(columns=['time'])\n",
        "\n",
        "# Grouping the weather data by date and calculating the daily mean.\n",
        "daily_weather_data = weather_data.groupby('date').mean(numeric_only=True).reset_index()"
      ],
      "metadata": {
        "id": "_H86IN7Fwu8z"
      },
      "execution_count": null,
      "outputs": []
    },
    {
      "cell_type": "code",
      "source": [
        "# Separating the features and the target variable for the rainfall prediction model.\n",
        "# Here, 'rain (mm)' is the target and the rest are features.\n",
        "X_rain = daily_weather_data.drop(columns=['rain (mm)'])\n",
        "y_rain = daily_weather_data['rain (mm)']\n",
        "y_rain = y_rain.fillna(0)  # Replacing missing values with 0 for consistency."
      ],
      "metadata": {
        "id": "GJs4BogPwu_p"
      },
      "execution_count": null,
      "outputs": []
    },
    {
      "cell_type": "code",
      "source": [
        "# Splitting the dataset into training and testing sets for the rainfall model.\n",
        "X_rain_train, X_rain_test, y_rain_train, y_rain_test = train_test_split(X_rain, y_rain, test_size=0.2, random_state=42)"
      ],
      "metadata": {
        "id": "PnwOBuHLwvCi"
      },
      "execution_count": null,
      "outputs": []
    },
    {
      "cell_type": "code",
      "source": [
        "# Creating a preprocessing pipeline for the numerical features in the rainfall dataset.\n",
        "numeric_features_rain = X_rain.select_dtypes(include=['float64']).columns\n",
        "numeric_transformer_rain = make_pipeline(\n",
        "    SimpleImputer(strategy='mean'),  # Filling missing values with the mean.\n",
        "    StandardScaler()  # Standardizing the data for better model performance.\n",
        ")"
      ],
      "metadata": {
        "id": "S3rGcfaLwvFC"
      },
      "execution_count": null,
      "outputs": []
    },
    {
      "cell_type": "code",
      "source": [
        "# Combining the preprocessing steps into a single transformer.\n",
        "preprocessor_rain = ColumnTransformer(\n",
        "    transformers=[\n",
        "        ('num', numeric_transformer_rain, numeric_features_rain)\n",
        "    ])"
      ],
      "metadata": {
        "id": "eqNIH5uExZxY"
      },
      "execution_count": null,
      "outputs": []
    },
    {
      "cell_type": "code",
      "source": [
        "# Building a pipeline that first preprocesses the data, then applies an XGBoost regressor.\n",
        "# This pipeline simplifies the process of fitting and transforming the data.\n",
        "model_xgb_rain = make_pipeline(preprocessor_rain, XGBRegressor(random_state=42))\n",
        "\n",
        "# Training the rainfall prediction model on the training dataset.\n",
        "model_xgb_rain.fit(X_rain_train, y_rain_train)"
      ],
      "metadata": {
        "colab": {
          "base_uri": "https://localhost:8080/",
          "height": 223
        },
        "id": "s1gG89UvxZ0S",
        "outputId": "2700e347-ce7f-4626-dc40-de4daec70cb2"
      },
      "execution_count": null,
      "outputs": [
        {
          "output_type": "execute_result",
          "data": {
            "text/plain": [
              "Pipeline(steps=[('columntransformer',\n",
              "                 ColumnTransformer(transformers=[('num',\n",
              "                                                  Pipeline(steps=[('simpleimputer',\n",
              "                                                                   SimpleImputer()),\n",
              "                                                                  ('standardscaler',\n",
              "                                                                   StandardScaler())]),\n",
              "                                                  Index(['wind_speed_100m (km/h)', 'soil_temperature_28_to_100cm (°C)',\n",
              "       'soil_moisture_7_to_28cm (m³/m³)', 'is_day ()'],\n",
              "      dtype='object'))])),\n",
              "                ('xgbregressor',\n",
              "                 XGBRegressor(base_score=None, booster=No...\n",
              "                              feature_types=None, gamma=None, grow_policy=None,\n",
              "                              importance_type=None,\n",
              "                              interaction_constraints=None, learning_rate=None,\n",
              "                              max_bin=None, max_cat_threshold=None,\n",
              "                              max_cat_to_onehot=None, max_delta_step=None,\n",
              "                              max_depth=None, max_leaves=None,\n",
              "                              min_child_weight=None, missing=nan,\n",
              "                              monotone_constraints=None, multi_strategy=None,\n",
              "                              n_estimators=None, n_jobs=None,\n",
              "                              num_parallel_tree=None, random_state=42, ...))])"
            ],
            "text/html": [
              "<style>#sk-container-id-1 {color: black;background-color: white;}#sk-container-id-1 pre{padding: 0;}#sk-container-id-1 div.sk-toggleable {background-color: white;}#sk-container-id-1 label.sk-toggleable__label {cursor: pointer;display: block;width: 100%;margin-bottom: 0;padding: 0.3em;box-sizing: border-box;text-align: center;}#sk-container-id-1 label.sk-toggleable__label-arrow:before {content: \"▸\";float: left;margin-right: 0.25em;color: #696969;}#sk-container-id-1 label.sk-toggleable__label-arrow:hover:before {color: black;}#sk-container-id-1 div.sk-estimator:hover label.sk-toggleable__label-arrow:before {color: black;}#sk-container-id-1 div.sk-toggleable__content {max-height: 0;max-width: 0;overflow: hidden;text-align: left;background-color: #f0f8ff;}#sk-container-id-1 div.sk-toggleable__content pre {margin: 0.2em;color: black;border-radius: 0.25em;background-color: #f0f8ff;}#sk-container-id-1 input.sk-toggleable__control:checked~div.sk-toggleable__content {max-height: 200px;max-width: 100%;overflow: auto;}#sk-container-id-1 input.sk-toggleable__control:checked~label.sk-toggleable__label-arrow:before {content: \"▾\";}#sk-container-id-1 div.sk-estimator input.sk-toggleable__control:checked~label.sk-toggleable__label {background-color: #d4ebff;}#sk-container-id-1 div.sk-label input.sk-toggleable__control:checked~label.sk-toggleable__label {background-color: #d4ebff;}#sk-container-id-1 input.sk-hidden--visually {border: 0;clip: rect(1px 1px 1px 1px);clip: rect(1px, 1px, 1px, 1px);height: 1px;margin: -1px;overflow: hidden;padding: 0;position: absolute;width: 1px;}#sk-container-id-1 div.sk-estimator {font-family: monospace;background-color: #f0f8ff;border: 1px dotted black;border-radius: 0.25em;box-sizing: border-box;margin-bottom: 0.5em;}#sk-container-id-1 div.sk-estimator:hover {background-color: #d4ebff;}#sk-container-id-1 div.sk-parallel-item::after {content: \"\";width: 100%;border-bottom: 1px solid gray;flex-grow: 1;}#sk-container-id-1 div.sk-label:hover label.sk-toggleable__label {background-color: #d4ebff;}#sk-container-id-1 div.sk-serial::before {content: \"\";position: absolute;border-left: 1px solid gray;box-sizing: border-box;top: 0;bottom: 0;left: 50%;z-index: 0;}#sk-container-id-1 div.sk-serial {display: flex;flex-direction: column;align-items: center;background-color: white;padding-right: 0.2em;padding-left: 0.2em;position: relative;}#sk-container-id-1 div.sk-item {position: relative;z-index: 1;}#sk-container-id-1 div.sk-parallel {display: flex;align-items: stretch;justify-content: center;background-color: white;position: relative;}#sk-container-id-1 div.sk-item::before, #sk-container-id-1 div.sk-parallel-item::before {content: \"\";position: absolute;border-left: 1px solid gray;box-sizing: border-box;top: 0;bottom: 0;left: 50%;z-index: -1;}#sk-container-id-1 div.sk-parallel-item {display: flex;flex-direction: column;z-index: 1;position: relative;background-color: white;}#sk-container-id-1 div.sk-parallel-item:first-child::after {align-self: flex-end;width: 50%;}#sk-container-id-1 div.sk-parallel-item:last-child::after {align-self: flex-start;width: 50%;}#sk-container-id-1 div.sk-parallel-item:only-child::after {width: 0;}#sk-container-id-1 div.sk-dashed-wrapped {border: 1px dashed gray;margin: 0 0.4em 0.5em 0.4em;box-sizing: border-box;padding-bottom: 0.4em;background-color: white;}#sk-container-id-1 div.sk-label label {font-family: monospace;font-weight: bold;display: inline-block;line-height: 1.2em;}#sk-container-id-1 div.sk-label-container {text-align: center;}#sk-container-id-1 div.sk-container {/* jupyter's `normalize.less` sets `[hidden] { display: none; }` but bootstrap.min.css set `[hidden] { display: none !important; }` so we also need the `!important` here to be able to override the default hidden behavior on the sphinx rendered scikit-learn.org. See: https://github.com/scikit-learn/scikit-learn/issues/21755 */display: inline-block !important;position: relative;}#sk-container-id-1 div.sk-text-repr-fallback {display: none;}</style><div id=\"sk-container-id-1\" class=\"sk-top-container\"><div class=\"sk-text-repr-fallback\"><pre>Pipeline(steps=[(&#x27;columntransformer&#x27;,\n",
              "                 ColumnTransformer(transformers=[(&#x27;num&#x27;,\n",
              "                                                  Pipeline(steps=[(&#x27;simpleimputer&#x27;,\n",
              "                                                                   SimpleImputer()),\n",
              "                                                                  (&#x27;standardscaler&#x27;,\n",
              "                                                                   StandardScaler())]),\n",
              "                                                  Index([&#x27;wind_speed_100m (km/h)&#x27;, &#x27;soil_temperature_28_to_100cm (°C)&#x27;,\n",
              "       &#x27;soil_moisture_7_to_28cm (m³/m³)&#x27;, &#x27;is_day ()&#x27;],\n",
              "      dtype=&#x27;object&#x27;))])),\n",
              "                (&#x27;xgbregressor&#x27;,\n",
              "                 XGBRegressor(base_score=None, booster=No...\n",
              "                              feature_types=None, gamma=None, grow_policy=None,\n",
              "                              importance_type=None,\n",
              "                              interaction_constraints=None, learning_rate=None,\n",
              "                              max_bin=None, max_cat_threshold=None,\n",
              "                              max_cat_to_onehot=None, max_delta_step=None,\n",
              "                              max_depth=None, max_leaves=None,\n",
              "                              min_child_weight=None, missing=nan,\n",
              "                              monotone_constraints=None, multi_strategy=None,\n",
              "                              n_estimators=None, n_jobs=None,\n",
              "                              num_parallel_tree=None, random_state=42, ...))])</pre><b>In a Jupyter environment, please rerun this cell to show the HTML representation or trust the notebook. <br />On GitHub, the HTML representation is unable to render, please try loading this page with nbviewer.org.</b></div><div class=\"sk-container\" hidden><div class=\"sk-item sk-dashed-wrapped\"><div class=\"sk-label-container\"><div class=\"sk-label sk-toggleable\"><input class=\"sk-toggleable__control sk-hidden--visually\" id=\"sk-estimator-id-1\" type=\"checkbox\" ><label for=\"sk-estimator-id-1\" class=\"sk-toggleable__label sk-toggleable__label-arrow\">Pipeline</label><div class=\"sk-toggleable__content\"><pre>Pipeline(steps=[(&#x27;columntransformer&#x27;,\n",
              "                 ColumnTransformer(transformers=[(&#x27;num&#x27;,\n",
              "                                                  Pipeline(steps=[(&#x27;simpleimputer&#x27;,\n",
              "                                                                   SimpleImputer()),\n",
              "                                                                  (&#x27;standardscaler&#x27;,\n",
              "                                                                   StandardScaler())]),\n",
              "                                                  Index([&#x27;wind_speed_100m (km/h)&#x27;, &#x27;soil_temperature_28_to_100cm (°C)&#x27;,\n",
              "       &#x27;soil_moisture_7_to_28cm (m³/m³)&#x27;, &#x27;is_day ()&#x27;],\n",
              "      dtype=&#x27;object&#x27;))])),\n",
              "                (&#x27;xgbregressor&#x27;,\n",
              "                 XGBRegressor(base_score=None, booster=No...\n",
              "                              feature_types=None, gamma=None, grow_policy=None,\n",
              "                              importance_type=None,\n",
              "                              interaction_constraints=None, learning_rate=None,\n",
              "                              max_bin=None, max_cat_threshold=None,\n",
              "                              max_cat_to_onehot=None, max_delta_step=None,\n",
              "                              max_depth=None, max_leaves=None,\n",
              "                              min_child_weight=None, missing=nan,\n",
              "                              monotone_constraints=None, multi_strategy=None,\n",
              "                              n_estimators=None, n_jobs=None,\n",
              "                              num_parallel_tree=None, random_state=42, ...))])</pre></div></div></div><div class=\"sk-serial\"><div class=\"sk-item sk-dashed-wrapped\"><div class=\"sk-label-container\"><div class=\"sk-label sk-toggleable\"><input class=\"sk-toggleable__control sk-hidden--visually\" id=\"sk-estimator-id-2\" type=\"checkbox\" ><label for=\"sk-estimator-id-2\" class=\"sk-toggleable__label sk-toggleable__label-arrow\">columntransformer: ColumnTransformer</label><div class=\"sk-toggleable__content\"><pre>ColumnTransformer(transformers=[(&#x27;num&#x27;,\n",
              "                                 Pipeline(steps=[(&#x27;simpleimputer&#x27;,\n",
              "                                                  SimpleImputer()),\n",
              "                                                 (&#x27;standardscaler&#x27;,\n",
              "                                                  StandardScaler())]),\n",
              "                                 Index([&#x27;wind_speed_100m (km/h)&#x27;, &#x27;soil_temperature_28_to_100cm (°C)&#x27;,\n",
              "       &#x27;soil_moisture_7_to_28cm (m³/m³)&#x27;, &#x27;is_day ()&#x27;],\n",
              "      dtype=&#x27;object&#x27;))])</pre></div></div></div><div class=\"sk-parallel\"><div class=\"sk-parallel-item\"><div class=\"sk-item\"><div class=\"sk-label-container\"><div class=\"sk-label sk-toggleable\"><input class=\"sk-toggleable__control sk-hidden--visually\" id=\"sk-estimator-id-3\" type=\"checkbox\" ><label for=\"sk-estimator-id-3\" class=\"sk-toggleable__label sk-toggleable__label-arrow\">num</label><div class=\"sk-toggleable__content\"><pre>Index([&#x27;wind_speed_100m (km/h)&#x27;, &#x27;soil_temperature_28_to_100cm (°C)&#x27;,\n",
              "       &#x27;soil_moisture_7_to_28cm (m³/m³)&#x27;, &#x27;is_day ()&#x27;],\n",
              "      dtype=&#x27;object&#x27;)</pre></div></div></div><div class=\"sk-serial\"><div class=\"sk-item\"><div class=\"sk-serial\"><div class=\"sk-item\"><div class=\"sk-estimator sk-toggleable\"><input class=\"sk-toggleable__control sk-hidden--visually\" id=\"sk-estimator-id-4\" type=\"checkbox\" ><label for=\"sk-estimator-id-4\" class=\"sk-toggleable__label sk-toggleable__label-arrow\">SimpleImputer</label><div class=\"sk-toggleable__content\"><pre>SimpleImputer()</pre></div></div></div><div class=\"sk-item\"><div class=\"sk-estimator sk-toggleable\"><input class=\"sk-toggleable__control sk-hidden--visually\" id=\"sk-estimator-id-5\" type=\"checkbox\" ><label for=\"sk-estimator-id-5\" class=\"sk-toggleable__label sk-toggleable__label-arrow\">StandardScaler</label><div class=\"sk-toggleable__content\"><pre>StandardScaler()</pre></div></div></div></div></div></div></div></div></div></div><div class=\"sk-item\"><div class=\"sk-estimator sk-toggleable\"><input class=\"sk-toggleable__control sk-hidden--visually\" id=\"sk-estimator-id-6\" type=\"checkbox\" ><label for=\"sk-estimator-id-6\" class=\"sk-toggleable__label sk-toggleable__label-arrow\">XGBRegressor</label><div class=\"sk-toggleable__content\"><pre>XGBRegressor(base_score=None, booster=None, callbacks=None,\n",
              "             colsample_bylevel=None, colsample_bynode=None,\n",
              "             colsample_bytree=None, device=None, early_stopping_rounds=None,\n",
              "             enable_categorical=False, eval_metric=None, feature_types=None,\n",
              "             gamma=None, grow_policy=None, importance_type=None,\n",
              "             interaction_constraints=None, learning_rate=None, max_bin=None,\n",
              "             max_cat_threshold=None, max_cat_to_onehot=None,\n",
              "             max_delta_step=None, max_depth=None, max_leaves=None,\n",
              "             min_child_weight=None, missing=nan, monotone_constraints=None,\n",
              "             multi_strategy=None, n_estimators=None, n_jobs=None,\n",
              "             num_parallel_tree=None, random_state=42, ...)</pre></div></div></div></div></div></div></div>"
            ]
          },
          "metadata": {},
          "execution_count": 16
        }
      ]
    },
    {
      "cell_type": "code",
      "source": [
        "# Making predictions on the test dataset to evaluate the model.\n",
        "y_pred_rain = model_xgb_rain.predict(X_rain_test)\n",
        "\n",
        "# Calculating the Mean Squared Error for the rainfall prediction model.\n",
        "mse_rain = mean_squared_error(y_rain_test, y_pred_rain)\n",
        "print(f'Mean Squared Error (Rainfall Prediction): {mse_rain}')"
      ],
      "metadata": {
        "colab": {
          "base_uri": "https://localhost:8080/"
        },
        "id": "UUtSBfxxxZ3J",
        "outputId": "4cbe1bd9-effe-4a8f-a122-4b67c3a3347f"
      },
      "execution_count": null,
      "outputs": [
        {
          "output_type": "stream",
          "name": "stdout",
          "text": [
            "Mean Squared Error (Rainfall Prediction): 0.11721523113843363\n"
          ]
        }
      ]
    },
    {
      "cell_type": "code",
      "source": [
        "# Loading the crop recommendation dataset with specific data types.\n",
        "crop_data = pd.read_csv('Crop_recommendation.csv', dtype=dtype_crop)"
      ],
      "metadata": {
        "id": "s6Syqo-DxZ5v"
      },
      "execution_count": null,
      "outputs": []
    },
    {
      "cell_type": "code",
      "source": [
        "# Ensuring pH values are within a realistic range (0 to 14).\n",
        "crop_data['ph'] = crop_data['ph'].apply(lambda x: min(14, max(0, x)))"
      ],
      "metadata": {
        "id": "wC2qodYuxZ8T"
      },
      "execution_count": null,
      "outputs": []
    },
    {
      "cell_type": "code",
      "source": [
        "# Separating the crop dataset into features and the target label.\n",
        "X_crop = crop_data.drop(columns=['label'])\n",
        "y_crop = crop_data['label']"
      ],
      "metadata": {
        "id": "0Vt3RYo9xzmb"
      },
      "execution_count": null,
      "outputs": []
    },
    {
      "cell_type": "code",
      "source": [
        "# Applying label encoding to convert categorical labels into numerical format.\n",
        "le_crop = LabelEncoder()\n",
        "y_crop = le_crop.fit_transform(y_crop)"
      ],
      "metadata": {
        "id": "NfZCQnNlxzpP"
      },
      "execution_count": null,
      "outputs": []
    },
    {
      "cell_type": "code",
      "source": [
        "# Splitting the crop data into training and testing sets for model validation.\n",
        "X_crop_train, X_crop_test, y_crop_train, y_crop_test = train_test_split(X_crop, y_crop, test_size=0.2, random_state=42)"
      ],
      "metadata": {
        "id": "qgi6UWv6xzrz"
      },
      "execution_count": null,
      "outputs": []
    },
    {
      "cell_type": "code",
      "source": [
        "# Creating a RandomForest classifier pipeline for the crop recommendation.\n",
        "model_crop = make_pipeline(RandomForestClassifier(n_estimators=100, random_state=42))\n",
        "\n",
        "# Training the crop recommendation model using the training data.\n",
        "# The model learns to associate the features with the crop labels.\n",
        "model_crop.fit(X_crop_train, y_crop_train)\n",
        "\n",
        "# Predicting crop labels on the test dataset to evaluate the model.\n",
        "y_pred_crop = model_crop.predict(X_crop_test)"
      ],
      "metadata": {
        "id": "Ai0XGG6ox_7X"
      },
      "execution_count": null,
      "outputs": []
    },
    {
      "cell_type": "code",
      "source": [
        "# Assessing the crop recommendation model's accuracy and printing a classification report.\n",
        "accuracy_crop = accuracy_score(y_crop_test, y_pred_crop)\n",
        "print(f'Accuracy (Crop Recommendation): {accuracy_crop}')\n",
        "print('Classification Report (Crop Recommendation):')\n",
        "print(classification_report(y_crop_test, y_pred_crop))"
      ],
      "metadata": {
        "colab": {
          "base_uri": "https://localhost:8080/"
        },
        "id": "RryF-0Eex_-X",
        "outputId": "3019c9fe-0a7e-4f9b-cae0-b447dc9e79ca"
      },
      "execution_count": null,
      "outputs": [
        {
          "output_type": "stream",
          "name": "stdout",
          "text": [
            "Accuracy (Crop Recommendation): 0.9931818181818182\n",
            "Classification Report (Crop Recommendation):\n",
            "              precision    recall  f1-score   support\n",
            "\n",
            "           0       1.00      1.00      1.00        23\n",
            "           1       1.00      1.00      1.00        21\n",
            "           2       1.00      1.00      1.00        20\n",
            "           3       1.00      1.00      1.00        26\n",
            "           4       1.00      1.00      1.00        27\n",
            "           5       1.00      1.00      1.00        17\n",
            "           6       1.00      1.00      1.00        17\n",
            "           7       1.00      1.00      1.00        14\n",
            "           8       0.92      1.00      0.96        23\n",
            "           9       1.00      1.00      1.00        20\n",
            "          10       0.92      1.00      0.96        11\n",
            "          11       1.00      1.00      1.00        21\n",
            "          12       1.00      1.00      1.00        19\n",
            "          13       1.00      0.96      0.98        24\n",
            "          14       1.00      1.00      1.00        19\n",
            "          15       1.00      1.00      1.00        17\n",
            "          16       1.00      1.00      1.00        14\n",
            "          17       1.00      1.00      1.00        23\n",
            "          18       1.00      1.00      1.00        23\n",
            "          19       1.00      1.00      1.00        23\n",
            "          20       1.00      0.89      0.94        19\n",
            "          21       1.00      1.00      1.00        19\n",
            "\n",
            "    accuracy                           0.99       440\n",
            "   macro avg       0.99      0.99      0.99       440\n",
            "weighted avg       0.99      0.99      0.99       440\n",
            "\n"
          ]
        }
      ]
    },
    {
      "cell_type": "code",
      "source": [
        "# Loading the dataset for future weather predictions with specific data types.\n",
        "prediction_data = pd.read_csv('predictions.csv', dtype=dtype_weather)\n",
        "\n",
        "# Processing the future weather data similar to the initial weather dataset.\n",
        "prediction_data = prediction_data[prediction_data['time'].apply(lambda x: 'T' in str(x))]\n",
        "prediction_data['time'] = pd.to_datetime(prediction_data['time'])\n",
        "prediction_data['date'] = prediction_data['time'].dt.date\n",
        "\n",
        "# Grouping the future weather data by date and computing daily averages.\n",
        "daily_prediction_data = prediction_data.groupby('date').mean(numeric_only=True).reset_index()"
      ],
      "metadata": {
        "id": "f76smKONyAA7"
      },
      "execution_count": null,
      "outputs": []
    },
    {
      "cell_type": "code",
      "source": [
        "# Calculating average temperature, humidity, and rainfall for future weather conditions.\n",
        "average_temperature = daily_prediction_data['temperature_2m (°C)'].mean()\n",
        "average_humidity = daily_prediction_data['relative_humidity_2m (%)'].mean()\n",
        "average_rainfall = y_pred_rain.mean()*100  # Scaling the predicted rainfall"
      ],
      "metadata": {
        "id": "F9lq76TIyADz"
      },
      "execution_count": null,
      "outputs": []
    },
    {
      "cell_type": "code",
      "source": [
        "# Preparing a new dataset for crop prediction using the future weather averages.\n",
        "new_weather_data = pd.DataFrame({\n",
        "    'N': [0],\n",
        "    'P': [0],\n",
        "    'K': [0],\n",
        "    'temperature': [average_temperature],\n",
        "    'humidity': [average_humidity],\n",
        "    'ph': [7],  # Assuming a neutral pH value\n",
        "    'rainfall': [average_rainfall]\n",
        "})"
      ],
      "metadata": {
        "id": "FcLWMnjgzhQr"
      },
      "execution_count": null,
      "outputs": []
    },
    {
      "cell_type": "code",
      "source": [
        "# Predicting the most suitable crop for the upcoming season based on the predicted weather conditions.\n",
        "predicted_crop = le_crop.inverse_transform(model_crop.predict(new_weather_data))\n",
        "print(f'Recommended Crop for the Next Quarter: {predicted_crop[0]}')"
      ],
      "metadata": {
        "colab": {
          "base_uri": "https://localhost:8080/"
        },
        "id": "GbI5kPxAzhVq",
        "outputId": "80d212e9-c632-4707-cecb-4305310ec034"
      },
      "execution_count": null,
      "outputs": [
        {
          "output_type": "stream",
          "name": "stdout",
          "text": [
            "Recommended Crop for the Next Quarter: mothbeans\n"
          ]
        }
      ]
    }
  ]
}
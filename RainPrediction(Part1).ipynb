{
  "nbformat": 4,
  "nbformat_minor": 0,
  "metadata": {
    "colab": {
      "provenance": [],
      "authorship_tag": "ABX9TyP8weuK80m8IIIDoDQf8A+B",
      "include_colab_link": true
    },
    "kernelspec": {
      "name": "python3",
      "display_name": "Python 3"
    },
    "language_info": {
      "name": "python"
    }
  },
  "cells": [
    {
      "cell_type": "markdown",
      "metadata": {
        "id": "view-in-github",
        "colab_type": "text"
      },
      "source": [
        "<a href=\"https://colab.research.google.com/github/ManviNarang01/AgroInsight/blob/main/RainPrediction(Part1).ipynb\" target=\"_parent\"><img src=\"https://colab.research.google.com/assets/colab-badge.svg\" alt=\"Open In Colab\"/></a>"
      ]
    },
    {
      "cell_type": "markdown",
      "source": [
        "# **Algorithms used: KNN, DNN, ANN, Neural Network with 3 and 5 layers.**"
      ],
      "metadata": {
        "id": "6voS4gJdVHHa"
      }
    },
    {
      "cell_type": "markdown",
      "source": [
        "**K-NEAREST NEIGHBOUR REGRESSION\n",
        "(MSE: 0.4276)**"
      ],
      "metadata": {
        "id": "QAv8LuIrLU5h"
      }
    },
    {
      "cell_type": "code",
      "execution_count": 3,
      "metadata": {
        "id": "Z5ghJa-iLP4n"
      },
      "outputs": [],
      "source": [
        "import pandas as pd\n",
        "from sklearn.model_selection import train_test_split\n",
        "from sklearn.neighbors import KNeighborsRegressor\n",
        "from sklearn.metrics import mean_squared_error\n",
        "from sklearn.preprocessing import StandardScaler\n",
        "from sklearn.pipeline import make_pipeline\n",
        "from sklearn.compose import ColumnTransformer\n",
        "from sklearn.impute import SimpleImputer"
      ]
    },
    {
      "cell_type": "code",
      "source": [
        "# Loading dataset\n",
        "data_knn = pd.read_csv('weather.csv')"
      ],
      "metadata": {
        "colab": {
          "base_uri": "https://localhost:8080/"
        },
        "id": "jsXGXiOONPl_",
        "outputId": "81bff63d-acdc-4aa6-fab1-5375fe93afb3"
      },
      "execution_count": 4,
      "outputs": [
        {
          "output_type": "stream",
          "name": "stderr",
          "text": [
            "<ipython-input-4-f5567185c480>:2: DtypeWarning: Columns (1,2,3) have mixed types. Specify dtype option on import or set low_memory=False.\n",
            "  data_knn = pd.read_csv('weather.csv')\n"
          ]
        }
      ]
    },
    {
      "cell_type": "code",
      "source": [
        "# Data Preprocessing\n",
        "data_knn = data_knn.drop(columns=['time'])\n",
        "\n",
        "# Separating features as (X_knn) and target variable as (y_knn)\n",
        "X_knn = data_knn.drop(columns=['rain (mm)'])\n",
        "y_knn = data_knn['rain (mm)']"
      ],
      "metadata": {
        "id": "j7QjOidONTVF"
      },
      "execution_count": 5,
      "outputs": []
    },
    {
      "cell_type": "code",
      "source": [
        "# Correcting missing values in the target variable\n",
        "y_knn = y_knn.fillna(0)"
      ],
      "metadata": {
        "id": "_qtx0XgeNTZ6"
      },
      "execution_count": 6,
      "outputs": []
    },
    {
      "cell_type": "code",
      "source": [
        "# Splitting the data into training and testing sets\n",
        "X_train_knn, X_test_knn, y_train_knn, y_test_knn = train_test_split(X_knn, y_knn, test_size=0.2, random_state=42)"
      ],
      "metadata": {
        "id": "ozOTwMLaNbiv"
      },
      "execution_count": 7,
      "outputs": []
    },
    {
      "cell_type": "code",
      "source": [
        "# Preprocessing further\n",
        "numeric_features_knn = X_knn.select_dtypes(include=['float64']).columns\n",
        "numeric_transformer_knn = make_pipeline(\n",
        "    SimpleImputer(strategy='mean'),\n",
        "    StandardScaler()\n",
        ")\n",
        "\n",
        "preprocessor_knn = ColumnTransformer(\n",
        "    transformers=[\n",
        "        ('num', numeric_transformer_knn, numeric_features_knn)\n",
        "    ])"
      ],
      "metadata": {
        "id": "BVw9T3gSNbmc"
      },
      "execution_count": 8,
      "outputs": []
    },
    {
      "cell_type": "code",
      "source": [
        "# Creating the model pipeline\n",
        "model_knn = make_pipeline(preprocessor_knn, KNeighborsRegressor())"
      ],
      "metadata": {
        "id": "_4_1hsFbNbr8"
      },
      "execution_count": 9,
      "outputs": []
    },
    {
      "cell_type": "code",
      "source": [
        "# Training the model\n",
        "model_knn.fit(X_train_knn, y_train_knn)\n",
        "\n",
        "# Making predictions on the test set\n",
        "y_pred_knn = model_knn.predict(X_test_knn)"
      ],
      "metadata": {
        "id": "3pECpJlTNjfW"
      },
      "execution_count": 10,
      "outputs": []
    },
    {
      "cell_type": "code",
      "source": [
        "# Evaluating the model usingMSE\n",
        "mse_knn = mean_squared_error(y_test_knn, y_pred_knn)\n",
        "print(f'Mean Squared Error (KNN): {mse_knn}')"
      ],
      "metadata": {
        "colab": {
          "base_uri": "https://localhost:8080/"
        },
        "id": "i-88bP4iNji-",
        "outputId": "199021b2-d3d9-43cf-9954-e4222df33084"
      },
      "execution_count": 11,
      "outputs": [
        {
          "output_type": "stream",
          "name": "stdout",
          "text": [
            "Mean Squared Error (KNN): 0.4276556005693639\n"
          ]
        }
      ]
    },
    {
      "cell_type": "code",
      "source": [
        "prediction_data = pd.read_csv('predictions.csv')\n",
        "predictions_knn = model_knn.predict(prediction_data)\n",
        "\n",
        "print(\"Predicted Rain for the next 3 months:\")\n",
        "print(predictions_knn)"
      ],
      "metadata": {
        "colab": {
          "base_uri": "https://localhost:8080/"
        },
        "id": "87JBxVAHNmkQ",
        "outputId": "10a5188f-b10a-474f-df26-5f9d1710be99"
      },
      "execution_count": 12,
      "outputs": [
        {
          "output_type": "stream",
          "name": "stdout",
          "text": [
            "Predicted Rain for the next 3 months:\n",
            "[0.06 0.   0.   ... 0.   0.04 0.04]\n"
          ]
        }
      ]
    },
    {
      "cell_type": "markdown",
      "source": [
        "**NEURAL NETWORKS: 3 LAYER (MSE:0.3880)**"
      ],
      "metadata": {
        "id": "a47UjFu_OGJH"
      }
    },
    {
      "cell_type": "code",
      "source": [
        "import pandas as pd\n",
        "from sklearn.model_selection import train_test_split\n",
        "from sklearn.metrics import mean_squared_error, r2_score\n",
        "from sklearn.preprocessing import StandardScaler\n",
        "from sklearn.impute import SimpleImputer\n",
        "from sklearn.compose import ColumnTransformer\n",
        "from sklearn.pipeline import make_pipeline\n",
        "import tensorflow as tf\n",
        "from tensorflow.keras.models import Sequential\n",
        "from tensorflow.keras.layers import Dense"
      ],
      "metadata": {
        "id": "oIba22E6O0zZ"
      },
      "execution_count": 25,
      "outputs": []
    },
    {
      "cell_type": "code",
      "source": [
        "# Loading dataset\n",
        "data = pd.read_csv('weather.csv')\n",
        "\n",
        "# Data Preprocessing\n",
        "data = data.drop(columns=['time'])\n",
        "\n",
        "# checking data types of all columns\n",
        "print(\"Data Types of Columns:\")\n",
        "print(data.dtypes)"
      ],
      "metadata": {
        "colab": {
          "base_uri": "https://localhost:8080/"
        },
        "id": "zLcV5LzSO0-d",
        "outputId": "0b9a2036-21e1-4b79-b4e6-2932e8d44725"
      },
      "execution_count": 26,
      "outputs": [
        {
          "output_type": "stream",
          "name": "stdout",
          "text": [
            "Data Types of Columns:\n",
            "temperature_2m (°C)                   object\n",
            "relative_humidity_2m (%)              object\n",
            "precipitation (mm)                    object\n",
            "rain (mm)                            float64\n",
            "wind_speed_100m (km/h)               float64\n",
            "soil_temperature_28_to_100cm (°C)    float64\n",
            "soil_moisture_7_to_28cm (m³/m³)      float64\n",
            "is_day ()                            float64\n",
            "dtype: object\n"
          ]
        },
        {
          "output_type": "stream",
          "name": "stderr",
          "text": [
            "<ipython-input-26-01a253b57a82>:2: DtypeWarning: Columns (1,2,3) have mixed types. Specify dtype option on import or set low_memory=False.\n",
            "  data = pd.read_csv('weather.csv')\n"
          ]
        }
      ]
    },
    {
      "cell_type": "code",
      "source": [
        "# Separating features as (X) and target variable as (y)\n",
        "X = data.drop(columns=['rain (mm)'])\n",
        "y = data['rain (mm)']\n",
        "\n",
        "# Correcting missing values in the target variable\n",
        "y = y.fillna(0)"
      ],
      "metadata": {
        "id": "m_ELkUJEO1Ea"
      },
      "execution_count": 27,
      "outputs": []
    },
    {
      "cell_type": "code",
      "source": [
        "# Splitting the data into training and testing sets\n",
        "X_train, X_test, y_train, y_test = train_test_split(X, y, test_size=0.2, random_state=42)\n",
        "\n",
        "# Further preprocessing\n",
        "numeric_features = X.select_dtypes(include=['float64']).columns\n",
        "numeric_transformer = make_pipeline(\n",
        "    SimpleImputer(strategy='mean'),\n",
        "    StandardScaler()\n",
        ")\n",
        "\n",
        "preprocessor = ColumnTransformer(\n",
        "    transformers=[\n",
        "        ('num', numeric_transformer, numeric_features)\n",
        "    ])"
      ],
      "metadata": {
        "id": "cll2JePkO1Ir"
      },
      "execution_count": 28,
      "outputs": []
    },
    {
      "cell_type": "code",
      "source": [
        "preprocessor.fit(X_train)"
      ],
      "metadata": {
        "colab": {
          "base_uri": "https://localhost:8080/",
          "height": 150
        },
        "id": "r3kw_N2HO1L8",
        "outputId": "3081860d-2fe5-4ea4-83b6-6b3a72f7f72d"
      },
      "execution_count": 29,
      "outputs": [
        {
          "output_type": "execute_result",
          "data": {
            "text/plain": [
              "ColumnTransformer(transformers=[('num',\n",
              "                                 Pipeline(steps=[('simpleimputer',\n",
              "                                                  SimpleImputer()),\n",
              "                                                 ('standardscaler',\n",
              "                                                  StandardScaler())]),\n",
              "                                 Index(['wind_speed_100m (km/h)', 'soil_temperature_28_to_100cm (°C)',\n",
              "       'soil_moisture_7_to_28cm (m³/m³)', 'is_day ()'],\n",
              "      dtype='object'))])"
            ],
            "text/html": [
              "<style>#sk-container-id-2 {color: black;background-color: white;}#sk-container-id-2 pre{padding: 0;}#sk-container-id-2 div.sk-toggleable {background-color: white;}#sk-container-id-2 label.sk-toggleable__label {cursor: pointer;display: block;width: 100%;margin-bottom: 0;padding: 0.3em;box-sizing: border-box;text-align: center;}#sk-container-id-2 label.sk-toggleable__label-arrow:before {content: \"▸\";float: left;margin-right: 0.25em;color: #696969;}#sk-container-id-2 label.sk-toggleable__label-arrow:hover:before {color: black;}#sk-container-id-2 div.sk-estimator:hover label.sk-toggleable__label-arrow:before {color: black;}#sk-container-id-2 div.sk-toggleable__content {max-height: 0;max-width: 0;overflow: hidden;text-align: left;background-color: #f0f8ff;}#sk-container-id-2 div.sk-toggleable__content pre {margin: 0.2em;color: black;border-radius: 0.25em;background-color: #f0f8ff;}#sk-container-id-2 input.sk-toggleable__control:checked~div.sk-toggleable__content {max-height: 200px;max-width: 100%;overflow: auto;}#sk-container-id-2 input.sk-toggleable__control:checked~label.sk-toggleable__label-arrow:before {content: \"▾\";}#sk-container-id-2 div.sk-estimator input.sk-toggleable__control:checked~label.sk-toggleable__label {background-color: #d4ebff;}#sk-container-id-2 div.sk-label input.sk-toggleable__control:checked~label.sk-toggleable__label {background-color: #d4ebff;}#sk-container-id-2 input.sk-hidden--visually {border: 0;clip: rect(1px 1px 1px 1px);clip: rect(1px, 1px, 1px, 1px);height: 1px;margin: -1px;overflow: hidden;padding: 0;position: absolute;width: 1px;}#sk-container-id-2 div.sk-estimator {font-family: monospace;background-color: #f0f8ff;border: 1px dotted black;border-radius: 0.25em;box-sizing: border-box;margin-bottom: 0.5em;}#sk-container-id-2 div.sk-estimator:hover {background-color: #d4ebff;}#sk-container-id-2 div.sk-parallel-item::after {content: \"\";width: 100%;border-bottom: 1px solid gray;flex-grow: 1;}#sk-container-id-2 div.sk-label:hover label.sk-toggleable__label {background-color: #d4ebff;}#sk-container-id-2 div.sk-serial::before {content: \"\";position: absolute;border-left: 1px solid gray;box-sizing: border-box;top: 0;bottom: 0;left: 50%;z-index: 0;}#sk-container-id-2 div.sk-serial {display: flex;flex-direction: column;align-items: center;background-color: white;padding-right: 0.2em;padding-left: 0.2em;position: relative;}#sk-container-id-2 div.sk-item {position: relative;z-index: 1;}#sk-container-id-2 div.sk-parallel {display: flex;align-items: stretch;justify-content: center;background-color: white;position: relative;}#sk-container-id-2 div.sk-item::before, #sk-container-id-2 div.sk-parallel-item::before {content: \"\";position: absolute;border-left: 1px solid gray;box-sizing: border-box;top: 0;bottom: 0;left: 50%;z-index: -1;}#sk-container-id-2 div.sk-parallel-item {display: flex;flex-direction: column;z-index: 1;position: relative;background-color: white;}#sk-container-id-2 div.sk-parallel-item:first-child::after {align-self: flex-end;width: 50%;}#sk-container-id-2 div.sk-parallel-item:last-child::after {align-self: flex-start;width: 50%;}#sk-container-id-2 div.sk-parallel-item:only-child::after {width: 0;}#sk-container-id-2 div.sk-dashed-wrapped {border: 1px dashed gray;margin: 0 0.4em 0.5em 0.4em;box-sizing: border-box;padding-bottom: 0.4em;background-color: white;}#sk-container-id-2 div.sk-label label {font-family: monospace;font-weight: bold;display: inline-block;line-height: 1.2em;}#sk-container-id-2 div.sk-label-container {text-align: center;}#sk-container-id-2 div.sk-container {/* jupyter's `normalize.less` sets `[hidden] { display: none; }` but bootstrap.min.css set `[hidden] { display: none !important; }` so we also need the `!important` here to be able to override the default hidden behavior on the sphinx rendered scikit-learn.org. See: https://github.com/scikit-learn/scikit-learn/issues/21755 */display: inline-block !important;position: relative;}#sk-container-id-2 div.sk-text-repr-fallback {display: none;}</style><div id=\"sk-container-id-2\" class=\"sk-top-container\"><div class=\"sk-text-repr-fallback\"><pre>ColumnTransformer(transformers=[(&#x27;num&#x27;,\n",
              "                                 Pipeline(steps=[(&#x27;simpleimputer&#x27;,\n",
              "                                                  SimpleImputer()),\n",
              "                                                 (&#x27;standardscaler&#x27;,\n",
              "                                                  StandardScaler())]),\n",
              "                                 Index([&#x27;wind_speed_100m (km/h)&#x27;, &#x27;soil_temperature_28_to_100cm (°C)&#x27;,\n",
              "       &#x27;soil_moisture_7_to_28cm (m³/m³)&#x27;, &#x27;is_day ()&#x27;],\n",
              "      dtype=&#x27;object&#x27;))])</pre><b>In a Jupyter environment, please rerun this cell to show the HTML representation or trust the notebook. <br />On GitHub, the HTML representation is unable to render, please try loading this page with nbviewer.org.</b></div><div class=\"sk-container\" hidden><div class=\"sk-item sk-dashed-wrapped\"><div class=\"sk-label-container\"><div class=\"sk-label sk-toggleable\"><input class=\"sk-toggleable__control sk-hidden--visually\" id=\"sk-estimator-id-5\" type=\"checkbox\" ><label for=\"sk-estimator-id-5\" class=\"sk-toggleable__label sk-toggleable__label-arrow\">ColumnTransformer</label><div class=\"sk-toggleable__content\"><pre>ColumnTransformer(transformers=[(&#x27;num&#x27;,\n",
              "                                 Pipeline(steps=[(&#x27;simpleimputer&#x27;,\n",
              "                                                  SimpleImputer()),\n",
              "                                                 (&#x27;standardscaler&#x27;,\n",
              "                                                  StandardScaler())]),\n",
              "                                 Index([&#x27;wind_speed_100m (km/h)&#x27;, &#x27;soil_temperature_28_to_100cm (°C)&#x27;,\n",
              "       &#x27;soil_moisture_7_to_28cm (m³/m³)&#x27;, &#x27;is_day ()&#x27;],\n",
              "      dtype=&#x27;object&#x27;))])</pre></div></div></div><div class=\"sk-parallel\"><div class=\"sk-parallel-item\"><div class=\"sk-item\"><div class=\"sk-label-container\"><div class=\"sk-label sk-toggleable\"><input class=\"sk-toggleable__control sk-hidden--visually\" id=\"sk-estimator-id-6\" type=\"checkbox\" ><label for=\"sk-estimator-id-6\" class=\"sk-toggleable__label sk-toggleable__label-arrow\">num</label><div class=\"sk-toggleable__content\"><pre>Index([&#x27;wind_speed_100m (km/h)&#x27;, &#x27;soil_temperature_28_to_100cm (°C)&#x27;,\n",
              "       &#x27;soil_moisture_7_to_28cm (m³/m³)&#x27;, &#x27;is_day ()&#x27;],\n",
              "      dtype=&#x27;object&#x27;)</pre></div></div></div><div class=\"sk-serial\"><div class=\"sk-item\"><div class=\"sk-serial\"><div class=\"sk-item\"><div class=\"sk-estimator sk-toggleable\"><input class=\"sk-toggleable__control sk-hidden--visually\" id=\"sk-estimator-id-7\" type=\"checkbox\" ><label for=\"sk-estimator-id-7\" class=\"sk-toggleable__label sk-toggleable__label-arrow\">SimpleImputer</label><div class=\"sk-toggleable__content\"><pre>SimpleImputer()</pre></div></div></div><div class=\"sk-item\"><div class=\"sk-estimator sk-toggleable\"><input class=\"sk-toggleable__control sk-hidden--visually\" id=\"sk-estimator-id-8\" type=\"checkbox\" ><label for=\"sk-estimator-id-8\" class=\"sk-toggleable__label sk-toggleable__label-arrow\">StandardScaler</label><div class=\"sk-toggleable__content\"><pre>StandardScaler()</pre></div></div></div></div></div></div></div></div></div></div></div></div>"
            ]
          },
          "metadata": {},
          "execution_count": 29
        }
      ]
    },
    {
      "cell_type": "code",
      "source": [
        "# Displaying columns before and after preprocessing\n",
        "print(\"\\nColumns before preprocessing:\")\n",
        "print(X_train.columns)"
      ],
      "metadata": {
        "colab": {
          "base_uri": "https://localhost:8080/"
        },
        "id": "2__utROMO1Pe",
        "outputId": "127ba1f2-0a72-4d51-9100-69e3ea1abcf7"
      },
      "execution_count": 30,
      "outputs": [
        {
          "output_type": "stream",
          "name": "stdout",
          "text": [
            "\n",
            "Columns before preprocessing:\n",
            "Index(['temperature_2m (°C)', 'relative_humidity_2m (%)', 'precipitation (mm)',\n",
            "       'wind_speed_100m (km/h)', 'soil_temperature_28_to_100cm (°C)',\n",
            "       'soil_moisture_7_to_28cm (m³/m³)', 'is_day ()'],\n",
            "      dtype='object')\n"
          ]
        }
      ]
    },
    {
      "cell_type": "code",
      "source": [
        "# Creating the neural network model\n",
        "model_nn = Sequential([\n",
        "    Dense(64, activation='relu', input_shape=(len(numeric_features),)),\n",
        "    Dense(32, activation='relu'),\n",
        "    Dense(1)  # Output layer with 1 neuron for regression\n",
        "])\n",
        "\n",
        "# Compiling the model\n",
        "model_nn.compile(optimizer='adam', loss='mean_squared_error')"
      ],
      "metadata": {
        "id": "4sDfa-TSO1S6"
      },
      "execution_count": 31,
      "outputs": []
    },
    {
      "cell_type": "code",
      "source": [
        "# Displaying model summary\n",
        "model_nn.summary()"
      ],
      "metadata": {
        "colab": {
          "base_uri": "https://localhost:8080/"
        },
        "id": "7dWZTQe6P_MY",
        "outputId": "9609ea49-313c-4ecc-9c6d-849fd56bf6c1"
      },
      "execution_count": 32,
      "outputs": [
        {
          "output_type": "stream",
          "name": "stdout",
          "text": [
            "Model: \"sequential_1\"\n",
            "_________________________________________________________________\n",
            " Layer (type)                Output Shape              Param #   \n",
            "=================================================================\n",
            " dense_3 (Dense)             (None, 64)                320       \n",
            "                                                                 \n",
            " dense_4 (Dense)             (None, 32)                2080      \n",
            "                                                                 \n",
            " dense_5 (Dense)             (None, 1)                 33        \n",
            "                                                                 \n",
            "=================================================================\n",
            "Total params: 2433 (9.50 KB)\n",
            "Trainable params: 2433 (9.50 KB)\n",
            "Non-trainable params: 0 (0.00 Byte)\n",
            "_________________________________________________________________\n"
          ]
        }
      ]
    },
    {
      "cell_type": "code",
      "source": [
        "# Training the model\n",
        "model_nn.fit(preprocessor.transform(X_train), y_train, epochs=50, batch_size=32, validation_split=0.2, verbose=1)"
      ],
      "metadata": {
        "colab": {
          "base_uri": "https://localhost:8080/"
        },
        "id": "nrO9EAYTP_RC",
        "outputId": "5b9cf603-4c44-4940-da87-e4787a2bb792"
      },
      "execution_count": 33,
      "outputs": [
        {
          "output_type": "stream",
          "name": "stdout",
          "text": [
            "Epoch 1/50\n",
            "1827/1827 [==============================] - 5s 2ms/step - loss: 0.4072 - val_loss: 0.4476\n",
            "Epoch 2/50\n",
            "1827/1827 [==============================] - 6s 3ms/step - loss: 0.3876 - val_loss: 0.4326\n",
            "Epoch 3/50\n",
            "1827/1827 [==============================] - 4s 2ms/step - loss: 0.3768 - val_loss: 0.4219\n",
            "Epoch 4/50\n",
            "1827/1827 [==============================] - 4s 2ms/step - loss: 0.3705 - val_loss: 0.4211\n",
            "Epoch 5/50\n",
            "1827/1827 [==============================] - 6s 3ms/step - loss: 0.3647 - val_loss: 0.4156\n",
            "Epoch 6/50\n",
            "1827/1827 [==============================] - 4s 2ms/step - loss: 0.3626 - val_loss: 0.4073\n",
            "Epoch 7/50\n",
            "1827/1827 [==============================] - 6s 3ms/step - loss: 0.3581 - val_loss: 0.4149\n",
            "Epoch 8/50\n",
            "1827/1827 [==============================] - 8s 4ms/step - loss: 0.3600 - val_loss: 0.4113\n",
            "Epoch 9/50\n",
            "1827/1827 [==============================] - 7s 4ms/step - loss: 0.3568 - val_loss: 0.4200\n",
            "Epoch 10/50\n",
            "1827/1827 [==============================] - 7s 4ms/step - loss: 0.3557 - val_loss: 0.4014\n",
            "Epoch 11/50\n",
            "1827/1827 [==============================] - 6s 3ms/step - loss: 0.3537 - val_loss: 0.4036\n",
            "Epoch 12/50\n",
            "1827/1827 [==============================] - 9s 5ms/step - loss: 0.3519 - val_loss: 0.4071\n",
            "Epoch 13/50\n",
            "1827/1827 [==============================] - 5s 3ms/step - loss: 0.3521 - val_loss: 0.4074\n",
            "Epoch 14/50\n",
            "1827/1827 [==============================] - 7s 4ms/step - loss: 0.3533 - val_loss: 0.4108\n",
            "Epoch 15/50\n",
            "1827/1827 [==============================] - 6s 3ms/step - loss: 0.3502 - val_loss: 0.4036\n",
            "Epoch 16/50\n",
            "1827/1827 [==============================] - 6s 3ms/step - loss: 0.3500 - val_loss: 0.3974\n",
            "Epoch 17/50\n",
            "1827/1827 [==============================] - 7s 4ms/step - loss: 0.3519 - val_loss: 0.4182\n",
            "Epoch 18/50\n",
            "1827/1827 [==============================] - 6s 3ms/step - loss: 0.3502 - val_loss: 0.3960\n",
            "Epoch 19/50\n",
            "1827/1827 [==============================] - 8s 4ms/step - loss: 0.3486 - val_loss: 0.4108\n",
            "Epoch 20/50\n",
            "1827/1827 [==============================] - 5s 3ms/step - loss: 0.3468 - val_loss: 0.3965\n",
            "Epoch 21/50\n",
            "1827/1827 [==============================] - 8s 4ms/step - loss: 0.3478 - val_loss: 0.3983\n",
            "Epoch 22/50\n",
            "1827/1827 [==============================] - 6s 3ms/step - loss: 0.3460 - val_loss: 0.4018\n",
            "Epoch 23/50\n",
            "1827/1827 [==============================] - 9s 5ms/step - loss: 0.3453 - val_loss: 0.3955\n",
            "Epoch 24/50\n",
            "1827/1827 [==============================] - 7s 4ms/step - loss: 0.3485 - val_loss: 0.4005\n",
            "Epoch 25/50\n",
            "1827/1827 [==============================] - 12s 7ms/step - loss: 0.3475 - val_loss: 0.3950\n",
            "Epoch 26/50\n",
            "1827/1827 [==============================] - 8s 5ms/step - loss: 0.3452 - val_loss: 0.3989\n",
            "Epoch 27/50\n",
            "1827/1827 [==============================] - 5s 3ms/step - loss: 0.3444 - val_loss: 0.4072\n",
            "Epoch 28/50\n",
            "1827/1827 [==============================] - 6s 3ms/step - loss: 0.3455 - val_loss: 0.4222\n",
            "Epoch 29/50\n",
            "1827/1827 [==============================] - 8s 5ms/step - loss: 0.3445 - val_loss: 0.3950\n",
            "Epoch 30/50\n",
            "1827/1827 [==============================] - 6s 3ms/step - loss: 0.3442 - val_loss: 0.4038\n",
            "Epoch 31/50\n",
            "1827/1827 [==============================] - 9s 5ms/step - loss: 0.3425 - val_loss: 0.4058\n",
            "Epoch 32/50\n",
            "1827/1827 [==============================] - 5s 3ms/step - loss: 0.3419 - val_loss: 0.4024\n",
            "Epoch 33/50\n",
            "1827/1827 [==============================] - 7s 4ms/step - loss: 0.3432 - val_loss: 0.3910\n",
            "Epoch 34/50\n",
            "1827/1827 [==============================] - 6s 3ms/step - loss: 0.3422 - val_loss: 0.3890\n",
            "Epoch 35/50\n",
            "1827/1827 [==============================] - 8s 4ms/step - loss: 0.3444 - val_loss: 0.3977\n",
            "Epoch 36/50\n",
            "1827/1827 [==============================] - 5s 2ms/step - loss: 0.3404 - val_loss: 0.3945\n",
            "Epoch 37/50\n",
            "1827/1827 [==============================] - 4s 2ms/step - loss: 0.3406 - val_loss: 0.3899\n",
            "Epoch 38/50\n",
            "1827/1827 [==============================] - 5s 3ms/step - loss: 0.3406 - val_loss: 0.3934\n",
            "Epoch 39/50\n",
            "1827/1827 [==============================] - 5s 3ms/step - loss: 0.3400 - val_loss: 0.3893\n",
            "Epoch 40/50\n",
            "1827/1827 [==============================] - 4s 2ms/step - loss: 0.3393 - val_loss: 0.4044\n",
            "Epoch 41/50\n",
            "1827/1827 [==============================] - 5s 3ms/step - loss: 0.3396 - val_loss: 0.4060\n",
            "Epoch 42/50\n",
            "1827/1827 [==============================] - 5s 3ms/step - loss: 0.3416 - val_loss: 0.3918\n",
            "Epoch 43/50\n",
            "1827/1827 [==============================] - 9s 5ms/step - loss: 0.3398 - val_loss: 0.3951\n",
            "Epoch 44/50\n",
            "1827/1827 [==============================] - 5s 3ms/step - loss: 0.3394 - val_loss: 0.3892\n",
            "Epoch 45/50\n",
            "1827/1827 [==============================] - 4s 2ms/step - loss: 0.3365 - val_loss: 0.4054\n",
            "Epoch 46/50\n",
            "1827/1827 [==============================] - 5s 3ms/step - loss: 0.3383 - val_loss: 0.3934\n",
            "Epoch 47/50\n",
            "1827/1827 [==============================] - 5s 3ms/step - loss: 0.3381 - val_loss: 0.3903\n",
            "Epoch 48/50\n",
            "1827/1827 [==============================] - 4s 2ms/step - loss: 0.3370 - val_loss: 0.3863\n",
            "Epoch 49/50\n",
            "1827/1827 [==============================] - 6s 3ms/step - loss: 0.3384 - val_loss: 0.3835\n",
            "Epoch 50/50\n",
            "1827/1827 [==============================] - 5s 2ms/step - loss: 0.3385 - val_loss: 0.3895\n"
          ]
        },
        {
          "output_type": "execute_result",
          "data": {
            "text/plain": [
              "<keras.src.callbacks.History at 0x7e8e3a45a1a0>"
            ]
          },
          "metadata": {},
          "execution_count": 33
        }
      ]
    },
    {
      "cell_type": "code",
      "source": [
        "# Making predictions on the test set\n",
        "y_pred_nn = model_nn.predict(preprocessor.transform(X_test))"
      ],
      "metadata": {
        "colab": {
          "base_uri": "https://localhost:8080/"
        },
        "id": "tIKmyPd4QDom",
        "outputId": "b0225c2c-9206-4b77-a349-401673acf1a2"
      },
      "execution_count": 34,
      "outputs": [
        {
          "output_type": "stream",
          "name": "stdout",
          "text": [
            "571/571 [==============================] - 1s 1ms/step\n"
          ]
        }
      ]
    },
    {
      "cell_type": "code",
      "source": [
        "# Evaluating the model\n",
        "mse_nn = mean_squared_error(y_test, y_pred_nn)\n",
        "\n",
        "print(f'\\nMean Squared Error (Neural Network): {mse_nn}')"
      ],
      "metadata": {
        "colab": {
          "base_uri": "https://localhost:8080/"
        },
        "id": "gOeaq-a5QFuf",
        "outputId": "9e563dc4-57e5-4e90-9b96-fb3ca3e1f9d1"
      },
      "execution_count": 35,
      "outputs": [
        {
          "output_type": "stream",
          "name": "stdout",
          "text": [
            "\n",
            "Mean Squared Error (Neural Network): 0.3880342382168559\n"
          ]
        }
      ]
    },
    {
      "cell_type": "markdown",
      "source": [
        "**DEEP NEURAL NETWORK : 3 LAYERS (MSE:0.395)**"
      ],
      "metadata": {
        "id": "Qhz_QqthSkKy"
      }
    },
    {
      "cell_type": "code",
      "source": [
        "import pandas as pd\n",
        "from sklearn.model_selection import train_test_split\n",
        "from sklearn.metrics import mean_squared_error\n",
        "from sklearn.preprocessing import StandardScaler\n",
        "from sklearn.impute import SimpleImputer\n",
        "from sklearn.compose import ColumnTransformer\n",
        "from sklearn.pipeline import make_pipeline\n",
        "from tensorflow.keras.models import Sequential\n",
        "from tensorflow.keras.layers import Dense\n",
        "from tensorflow.keras.optimizers import Adam"
      ],
      "metadata": {
        "id": "YF5rHR1ISVnz"
      },
      "execution_count": 47,
      "outputs": []
    },
    {
      "cell_type": "code",
      "source": [
        "#Loading dataset\n",
        "data_dnn = pd.read_csv('weather.csv')\n",
        "\n",
        "# Data Preprocessing\n",
        "data_dnn = data_dnn.drop(columns=['time'])\n",
        "\n",
        "# Separating features as (X_dnn) and target variable as (y_dnn)\n",
        "X_dnn = data_dnn.drop(columns=['rain (mm)'])\n",
        "y_dnn = data_dnn['rain (mm)']\n",
        "\n",
        "#Correcting missing values in the target variable\n",
        "y_dnn = y_dnn.fillna(0)  # You can use a different strategy to handle missing values, e.g., mean, median, etc.\n",
        "\n",
        "# Splitting the data into training and testing sets\n",
        "X_train_dnn, X_test_dnn, y_train_dnn, y_test_dnn = train_test_split(X_dnn, y_dnn, test_size=0.2, random_state=42)\n",
        "\n",
        "# Further preprocessing\n",
        "numeric_features_dnn = X_dnn.select_dtypes(include=['float64']).columns\n",
        "numeric_transformer_dnn = make_pipeline(\n",
        "    SimpleImputer(strategy='mean'),\n",
        "    StandardScaler()\n",
        ")\n",
        "\n",
        "preprocessor_dnn = ColumnTransformer(\n",
        "    transformers=[\n",
        "        ('num', numeric_transformer_dnn, numeric_features_dnn)\n",
        "    ])\n",
        "\n",
        "preprocessor_dnn.fit(X_train_dnn[numeric_features_dnn])"
      ],
      "metadata": {
        "colab": {
          "base_uri": "https://localhost:8080/",
          "height": 205
        },
        "id": "a_-yq_DnT5L-",
        "outputId": "9747be73-15e5-45f7-e19e-6a0a39a08a0a"
      },
      "execution_count": 48,
      "outputs": [
        {
          "output_type": "stream",
          "name": "stderr",
          "text": [
            "<ipython-input-48-a4046743a1d0>:2: DtypeWarning: Columns (1,2,3) have mixed types. Specify dtype option on import or set low_memory=False.\n",
            "  data_dnn = pd.read_csv('weather.csv')\n"
          ]
        },
        {
          "output_type": "execute_result",
          "data": {
            "text/plain": [
              "ColumnTransformer(transformers=[('num',\n",
              "                                 Pipeline(steps=[('simpleimputer',\n",
              "                                                  SimpleImputer()),\n",
              "                                                 ('standardscaler',\n",
              "                                                  StandardScaler())]),\n",
              "                                 Index(['wind_speed_100m (km/h)', 'soil_temperature_28_to_100cm (°C)',\n",
              "       'soil_moisture_7_to_28cm (m³/m³)', 'is_day ()'],\n",
              "      dtype='object'))])"
            ],
            "text/html": [
              "<style>#sk-container-id-4 {color: black;background-color: white;}#sk-container-id-4 pre{padding: 0;}#sk-container-id-4 div.sk-toggleable {background-color: white;}#sk-container-id-4 label.sk-toggleable__label {cursor: pointer;display: block;width: 100%;margin-bottom: 0;padding: 0.3em;box-sizing: border-box;text-align: center;}#sk-container-id-4 label.sk-toggleable__label-arrow:before {content: \"▸\";float: left;margin-right: 0.25em;color: #696969;}#sk-container-id-4 label.sk-toggleable__label-arrow:hover:before {color: black;}#sk-container-id-4 div.sk-estimator:hover label.sk-toggleable__label-arrow:before {color: black;}#sk-container-id-4 div.sk-toggleable__content {max-height: 0;max-width: 0;overflow: hidden;text-align: left;background-color: #f0f8ff;}#sk-container-id-4 div.sk-toggleable__content pre {margin: 0.2em;color: black;border-radius: 0.25em;background-color: #f0f8ff;}#sk-container-id-4 input.sk-toggleable__control:checked~div.sk-toggleable__content {max-height: 200px;max-width: 100%;overflow: auto;}#sk-container-id-4 input.sk-toggleable__control:checked~label.sk-toggleable__label-arrow:before {content: \"▾\";}#sk-container-id-4 div.sk-estimator input.sk-toggleable__control:checked~label.sk-toggleable__label {background-color: #d4ebff;}#sk-container-id-4 div.sk-label input.sk-toggleable__control:checked~label.sk-toggleable__label {background-color: #d4ebff;}#sk-container-id-4 input.sk-hidden--visually {border: 0;clip: rect(1px 1px 1px 1px);clip: rect(1px, 1px, 1px, 1px);height: 1px;margin: -1px;overflow: hidden;padding: 0;position: absolute;width: 1px;}#sk-container-id-4 div.sk-estimator {font-family: monospace;background-color: #f0f8ff;border: 1px dotted black;border-radius: 0.25em;box-sizing: border-box;margin-bottom: 0.5em;}#sk-container-id-4 div.sk-estimator:hover {background-color: #d4ebff;}#sk-container-id-4 div.sk-parallel-item::after {content: \"\";width: 100%;border-bottom: 1px solid gray;flex-grow: 1;}#sk-container-id-4 div.sk-label:hover label.sk-toggleable__label {background-color: #d4ebff;}#sk-container-id-4 div.sk-serial::before {content: \"\";position: absolute;border-left: 1px solid gray;box-sizing: border-box;top: 0;bottom: 0;left: 50%;z-index: 0;}#sk-container-id-4 div.sk-serial {display: flex;flex-direction: column;align-items: center;background-color: white;padding-right: 0.2em;padding-left: 0.2em;position: relative;}#sk-container-id-4 div.sk-item {position: relative;z-index: 1;}#sk-container-id-4 div.sk-parallel {display: flex;align-items: stretch;justify-content: center;background-color: white;position: relative;}#sk-container-id-4 div.sk-item::before, #sk-container-id-4 div.sk-parallel-item::before {content: \"\";position: absolute;border-left: 1px solid gray;box-sizing: border-box;top: 0;bottom: 0;left: 50%;z-index: -1;}#sk-container-id-4 div.sk-parallel-item {display: flex;flex-direction: column;z-index: 1;position: relative;background-color: white;}#sk-container-id-4 div.sk-parallel-item:first-child::after {align-self: flex-end;width: 50%;}#sk-container-id-4 div.sk-parallel-item:last-child::after {align-self: flex-start;width: 50%;}#sk-container-id-4 div.sk-parallel-item:only-child::after {width: 0;}#sk-container-id-4 div.sk-dashed-wrapped {border: 1px dashed gray;margin: 0 0.4em 0.5em 0.4em;box-sizing: border-box;padding-bottom: 0.4em;background-color: white;}#sk-container-id-4 div.sk-label label {font-family: monospace;font-weight: bold;display: inline-block;line-height: 1.2em;}#sk-container-id-4 div.sk-label-container {text-align: center;}#sk-container-id-4 div.sk-container {/* jupyter's `normalize.less` sets `[hidden] { display: none; }` but bootstrap.min.css set `[hidden] { display: none !important; }` so we also need the `!important` here to be able to override the default hidden behavior on the sphinx rendered scikit-learn.org. See: https://github.com/scikit-learn/scikit-learn/issues/21755 */display: inline-block !important;position: relative;}#sk-container-id-4 div.sk-text-repr-fallback {display: none;}</style><div id=\"sk-container-id-4\" class=\"sk-top-container\"><div class=\"sk-text-repr-fallback\"><pre>ColumnTransformer(transformers=[(&#x27;num&#x27;,\n",
              "                                 Pipeline(steps=[(&#x27;simpleimputer&#x27;,\n",
              "                                                  SimpleImputer()),\n",
              "                                                 (&#x27;standardscaler&#x27;,\n",
              "                                                  StandardScaler())]),\n",
              "                                 Index([&#x27;wind_speed_100m (km/h)&#x27;, &#x27;soil_temperature_28_to_100cm (°C)&#x27;,\n",
              "       &#x27;soil_moisture_7_to_28cm (m³/m³)&#x27;, &#x27;is_day ()&#x27;],\n",
              "      dtype=&#x27;object&#x27;))])</pre><b>In a Jupyter environment, please rerun this cell to show the HTML representation or trust the notebook. <br />On GitHub, the HTML representation is unable to render, please try loading this page with nbviewer.org.</b></div><div class=\"sk-container\" hidden><div class=\"sk-item sk-dashed-wrapped\"><div class=\"sk-label-container\"><div class=\"sk-label sk-toggleable\"><input class=\"sk-toggleable__control sk-hidden--visually\" id=\"sk-estimator-id-13\" type=\"checkbox\" ><label for=\"sk-estimator-id-13\" class=\"sk-toggleable__label sk-toggleable__label-arrow\">ColumnTransformer</label><div class=\"sk-toggleable__content\"><pre>ColumnTransformer(transformers=[(&#x27;num&#x27;,\n",
              "                                 Pipeline(steps=[(&#x27;simpleimputer&#x27;,\n",
              "                                                  SimpleImputer()),\n",
              "                                                 (&#x27;standardscaler&#x27;,\n",
              "                                                  StandardScaler())]),\n",
              "                                 Index([&#x27;wind_speed_100m (km/h)&#x27;, &#x27;soil_temperature_28_to_100cm (°C)&#x27;,\n",
              "       &#x27;soil_moisture_7_to_28cm (m³/m³)&#x27;, &#x27;is_day ()&#x27;],\n",
              "      dtype=&#x27;object&#x27;))])</pre></div></div></div><div class=\"sk-parallel\"><div class=\"sk-parallel-item\"><div class=\"sk-item\"><div class=\"sk-label-container\"><div class=\"sk-label sk-toggleable\"><input class=\"sk-toggleable__control sk-hidden--visually\" id=\"sk-estimator-id-14\" type=\"checkbox\" ><label for=\"sk-estimator-id-14\" class=\"sk-toggleable__label sk-toggleable__label-arrow\">num</label><div class=\"sk-toggleable__content\"><pre>Index([&#x27;wind_speed_100m (km/h)&#x27;, &#x27;soil_temperature_28_to_100cm (°C)&#x27;,\n",
              "       &#x27;soil_moisture_7_to_28cm (m³/m³)&#x27;, &#x27;is_day ()&#x27;],\n",
              "      dtype=&#x27;object&#x27;)</pre></div></div></div><div class=\"sk-serial\"><div class=\"sk-item\"><div class=\"sk-serial\"><div class=\"sk-item\"><div class=\"sk-estimator sk-toggleable\"><input class=\"sk-toggleable__control sk-hidden--visually\" id=\"sk-estimator-id-15\" type=\"checkbox\" ><label for=\"sk-estimator-id-15\" class=\"sk-toggleable__label sk-toggleable__label-arrow\">SimpleImputer</label><div class=\"sk-toggleable__content\"><pre>SimpleImputer()</pre></div></div></div><div class=\"sk-item\"><div class=\"sk-estimator sk-toggleable\"><input class=\"sk-toggleable__control sk-hidden--visually\" id=\"sk-estimator-id-16\" type=\"checkbox\" ><label for=\"sk-estimator-id-16\" class=\"sk-toggleable__label sk-toggleable__label-arrow\">StandardScaler</label><div class=\"sk-toggleable__content\"><pre>StandardScaler()</pre></div></div></div></div></div></div></div></div></div></div></div></div>"
            ]
          },
          "metadata": {},
          "execution_count": 48
        }
      ]
    },
    {
      "cell_type": "code",
      "source": [
        "#Creating the model\n",
        "model_dnn = Sequential()\n",
        "model_dnn.add(Dense(64, activation='relu', input_shape=(len(numeric_features_dnn),)))  # Update input_shape\n",
        "model_dnn.add(Dense(32, activation='relu'))\n",
        "model_dnn.add(Dense(1, activation='linear'))  # Regression output layer\n",
        "\n",
        "# Compiling the model\n",
        "model_dnn.compile(optimizer=Adam(learning_rate=0.001), loss='mean_squared_error')\n"
      ],
      "metadata": {
        "id": "TuZh1h5jT5Ua"
      },
      "execution_count": 49,
      "outputs": []
    },
    {
      "cell_type": "code",
      "source": [
        "#Transforming the training data\n",
        "X_train_dnn_transformed = preprocessor_dnn.transform(X_train_dnn)\n",
        "\n",
        "model_dnn.fit(X_train_dnn_transformed, y_train_dnn, epochs=50, batch_size=32, validation_split=0.2, verbose=1)\n",
        "\n",
        "#Transforming the test data\n",
        "X_test_dnn_transformed = preprocessor_dnn.transform(X_test_dnn)\n",
        "\n",
        "#Making predictions on the test set\n",
        "y_pred_dnn = model_dnn.predict(X_test_dnn_transformed)\n",
        "\n",
        "#Evaluating the model using MSE\n",
        "mse_dnn = mean_squared_error(y_test_dnn, y_pred_dnn)\n",
        "print(f'Mean Squared Error: {mse_dnn}')"
      ],
      "metadata": {
        "colab": {
          "base_uri": "https://localhost:8080/"
        },
        "id": "P2Hd7JMxUEB0",
        "outputId": "5488218a-85f6-47d5-f518-eeb2b3839857"
      },
      "execution_count": 50,
      "outputs": [
        {
          "output_type": "stream",
          "name": "stdout",
          "text": [
            "Epoch 1/50\n",
            "1827/1827 [==============================] - 5s 2ms/step - loss: 0.4064 - val_loss: 0.4475\n",
            "Epoch 2/50\n",
            "1827/1827 [==============================] - 6s 3ms/step - loss: 0.3864 - val_loss: 0.4366\n",
            "Epoch 3/50\n",
            "1827/1827 [==============================] - 4s 2ms/step - loss: 0.3760 - val_loss: 0.4205\n",
            "Epoch 4/50\n",
            "1827/1827 [==============================] - 4s 2ms/step - loss: 0.3681 - val_loss: 0.4384\n",
            "Epoch 5/50\n",
            "1827/1827 [==============================] - 6s 3ms/step - loss: 0.3655 - val_loss: 0.4316\n",
            "Epoch 6/50\n",
            "1827/1827 [==============================] - 4s 2ms/step - loss: 0.3621 - val_loss: 0.4124\n",
            "Epoch 7/50\n",
            "1827/1827 [==============================] - 4s 2ms/step - loss: 0.3589 - val_loss: 0.4275\n",
            "Epoch 8/50\n",
            "1827/1827 [==============================] - 6s 3ms/step - loss: 0.3573 - val_loss: 0.4115\n",
            "Epoch 9/50\n",
            "1827/1827 [==============================] - 4s 2ms/step - loss: 0.3571 - val_loss: 0.4073\n",
            "Epoch 10/50\n",
            "1827/1827 [==============================] - 4s 2ms/step - loss: 0.3555 - val_loss: 0.4063\n",
            "Epoch 11/50\n",
            "1827/1827 [==============================] - 6s 3ms/step - loss: 0.3540 - val_loss: 0.4226\n",
            "Epoch 12/50\n",
            "1827/1827 [==============================] - 4s 2ms/step - loss: 0.3526 - val_loss: 0.4051\n",
            "Epoch 13/50\n",
            "1827/1827 [==============================] - 4s 2ms/step - loss: 0.3520 - val_loss: 0.4012\n",
            "Epoch 14/50\n",
            "1827/1827 [==============================] - 6s 3ms/step - loss: 0.3526 - val_loss: 0.4017\n",
            "Epoch 15/50\n",
            "1827/1827 [==============================] - 4s 2ms/step - loss: 0.3509 - val_loss: 0.4036\n",
            "Epoch 16/50\n",
            "1827/1827 [==============================] - 4s 2ms/step - loss: 0.3522 - val_loss: 0.3989\n",
            "Epoch 17/50\n",
            "1827/1827 [==============================] - 6s 3ms/step - loss: 0.3483 - val_loss: 0.3973\n",
            "Epoch 18/50\n",
            "1827/1827 [==============================] - 4s 2ms/step - loss: 0.3487 - val_loss: 0.3948\n",
            "Epoch 19/50\n",
            "1827/1827 [==============================] - 4s 2ms/step - loss: 0.3463 - val_loss: 0.4038\n",
            "Epoch 20/50\n",
            "1827/1827 [==============================] - 6s 3ms/step - loss: 0.3472 - val_loss: 0.3998\n",
            "Epoch 21/50\n",
            "1827/1827 [==============================] - 4s 2ms/step - loss: 0.3494 - val_loss: 0.3929\n",
            "Epoch 22/50\n",
            "1827/1827 [==============================] - 4s 2ms/step - loss: 0.3463 - val_loss: 0.3980\n",
            "Epoch 23/50\n",
            "1827/1827 [==============================] - 6s 3ms/step - loss: 0.3467 - val_loss: 0.4088\n",
            "Epoch 24/50\n",
            "1827/1827 [==============================] - 4s 2ms/step - loss: 0.3472 - val_loss: 0.4234\n",
            "Epoch 25/50\n",
            "1827/1827 [==============================] - 4s 2ms/step - loss: 0.3453 - val_loss: 0.4003\n",
            "Epoch 26/50\n",
            "1827/1827 [==============================] - 6s 3ms/step - loss: 0.3481 - val_loss: 0.4005\n",
            "Epoch 27/50\n",
            "1827/1827 [==============================] - 4s 2ms/step - loss: 0.3429 - val_loss: 0.3965\n",
            "Epoch 28/50\n",
            "1827/1827 [==============================] - 4s 2ms/step - loss: 0.3455 - val_loss: 0.4011\n",
            "Epoch 29/50\n",
            "1827/1827 [==============================] - 6s 3ms/step - loss: 0.3477 - val_loss: 0.4052\n",
            "Epoch 30/50\n",
            "1827/1827 [==============================] - 4s 2ms/step - loss: 0.3419 - val_loss: 0.3988\n",
            "Epoch 31/50\n",
            "1827/1827 [==============================] - 4s 2ms/step - loss: 0.3430 - val_loss: 0.4203\n",
            "Epoch 32/50\n",
            "1827/1827 [==============================] - 5s 3ms/step - loss: 0.3413 - val_loss: 0.4022\n",
            "Epoch 33/50\n",
            "1827/1827 [==============================] - 5s 2ms/step - loss: 0.3418 - val_loss: 0.3939\n",
            "Epoch 34/50\n",
            "1827/1827 [==============================] - 4s 2ms/step - loss: 0.3397 - val_loss: 0.3931\n",
            "Epoch 35/50\n",
            "1827/1827 [==============================] - 6s 3ms/step - loss: 0.3427 - val_loss: 0.4009\n",
            "Epoch 36/50\n",
            "1827/1827 [==============================] - 4s 2ms/step - loss: 0.3385 - val_loss: 0.3930\n",
            "Epoch 37/50\n",
            "1827/1827 [==============================] - 4s 2ms/step - loss: 0.3410 - val_loss: 0.3889\n",
            "Epoch 38/50\n",
            "1827/1827 [==============================] - 6s 3ms/step - loss: 0.3411 - val_loss: 0.3894\n",
            "Epoch 39/50\n",
            "1827/1827 [==============================] - 4s 2ms/step - loss: 0.3402 - val_loss: 0.3913\n",
            "Epoch 40/50\n",
            "1827/1827 [==============================] - 4s 2ms/step - loss: 0.3382 - val_loss: 0.3942\n",
            "Epoch 41/50\n",
            "1827/1827 [==============================] - 6s 3ms/step - loss: 0.3409 - val_loss: 0.3994\n",
            "Epoch 42/50\n",
            "1827/1827 [==============================] - 4s 2ms/step - loss: 0.3395 - val_loss: 0.3938\n",
            "Epoch 43/50\n",
            "1827/1827 [==============================] - 4s 2ms/step - loss: 0.3407 - val_loss: 0.3852\n",
            "Epoch 44/50\n",
            "1827/1827 [==============================] - 6s 3ms/step - loss: 0.3388 - val_loss: 0.3897\n",
            "Epoch 45/50\n",
            "1827/1827 [==============================] - 4s 2ms/step - loss: 0.3406 - val_loss: 0.3900\n",
            "Epoch 46/50\n",
            "1827/1827 [==============================] - 4s 2ms/step - loss: 0.3415 - val_loss: 0.4033\n",
            "Epoch 47/50\n",
            "1827/1827 [==============================] - 6s 3ms/step - loss: 0.3404 - val_loss: 0.3888\n",
            "Epoch 48/50\n",
            "1827/1827 [==============================] - 4s 2ms/step - loss: 0.3392 - val_loss: 0.3910\n",
            "Epoch 49/50\n",
            "1827/1827 [==============================] - 4s 2ms/step - loss: 0.3381 - val_loss: 0.3907\n",
            "Epoch 50/50\n",
            "1827/1827 [==============================] - 6s 3ms/step - loss: 0.3380 - val_loss: 0.4013\n",
            "571/571 [==============================] - 1s 2ms/step\n",
            "Mean Squared Error: 0.39503607814235886\n"
          ]
        }
      ]
    },
    {
      "cell_type": "markdown",
      "source": [
        "**ARTIFICIAL NEURAL NETWORK (MSE:0.393)**"
      ],
      "metadata": {
        "id": "ZkDA3GwlYXjb"
      }
    },
    {
      "cell_type": "code",
      "source": [
        "import pandas as pd\n",
        "from sklearn.model_selection import train_test_split\n",
        "from sklearn.metrics import mean_squared_error\n",
        "from sklearn.preprocessing import StandardScaler\n",
        "from sklearn.impute import SimpleImputer\n",
        "from sklearn.compose import ColumnTransformer\n",
        "from sklearn.pipeline import make_pipeline\n",
        "from tensorflow.keras.models import Sequential\n",
        "from tensorflow.keras.layers import Dense\n",
        "from tensorflow.keras.optimizers import Adam\n",
        "\n",
        "# Loading the dataset\n",
        "data_ann = pd.read_csv('weather.csv')\n",
        "\n",
        "# Data Preprocessing\n",
        "data_ann = data_ann.drop(columns=['time'])\n",
        "\n",
        "# Separating features as  (X_ann) and target variable as (y_ann)\n",
        "X_ann = data_ann.drop(columns=['rain (mm)'])\n",
        "y_ann = data_ann['rain (mm)']\n",
        "\n",
        "#Correcting missing values in the target variable\n",
        "y_ann = y_ann.fillna(0)  # You can use a different strategy to handle missing values, e.g., mean, median, etc.\n",
        "\n",
        "# Splitting the data into training and testing sets\n",
        "X_train_ann, X_test_ann, y_train_ann, y_test_ann = train_test_split(X_ann, y_ann, test_size=0.2, random_state=42)\n",
        "\n",
        "#Further Preprocessing\n",
        "numeric_features_ann = X_ann.select_dtypes(include=['float64']).columns\n",
        "numeric_transformer_ann = make_pipeline(\n",
        "    SimpleImputer(strategy='mean'),\n",
        "    StandardScaler()\n",
        ")\n",
        "\n",
        "preprocessor_ann = ColumnTransformer(\n",
        "    transformers=[\n",
        "        ('num', numeric_transformer_ann, numeric_features_ann)\n",
        "    ])\n",
        "\n",
        "preprocessor_ann.fit(X_train_ann[numeric_features_ann])"
      ],
      "metadata": {
        "colab": {
          "base_uri": "https://localhost:8080/",
          "height": 205
        },
        "id": "TQyFnwOSYX0X",
        "outputId": "f10e75b8-82e0-4223-b839-33b4819de2ef"
      },
      "execution_count": 59,
      "outputs": [
        {
          "output_type": "stream",
          "name": "stderr",
          "text": [
            "<ipython-input-59-46810342ae7f>:13: DtypeWarning: Columns (1,2,3) have mixed types. Specify dtype option on import or set low_memory=False.\n",
            "  data_ann = pd.read_csv('weather.csv')\n"
          ]
        },
        {
          "output_type": "execute_result",
          "data": {
            "text/plain": [
              "ColumnTransformer(transformers=[('num',\n",
              "                                 Pipeline(steps=[('simpleimputer',\n",
              "                                                  SimpleImputer()),\n",
              "                                                 ('standardscaler',\n",
              "                                                  StandardScaler())]),\n",
              "                                 Index(['wind_speed_100m (km/h)', 'soil_temperature_28_to_100cm (°C)',\n",
              "       'soil_moisture_7_to_28cm (m³/m³)', 'is_day ()'],\n",
              "      dtype='object'))])"
            ],
            "text/html": [
              "<style>#sk-container-id-6 {color: black;background-color: white;}#sk-container-id-6 pre{padding: 0;}#sk-container-id-6 div.sk-toggleable {background-color: white;}#sk-container-id-6 label.sk-toggleable__label {cursor: pointer;display: block;width: 100%;margin-bottom: 0;padding: 0.3em;box-sizing: border-box;text-align: center;}#sk-container-id-6 label.sk-toggleable__label-arrow:before {content: \"▸\";float: left;margin-right: 0.25em;color: #696969;}#sk-container-id-6 label.sk-toggleable__label-arrow:hover:before {color: black;}#sk-container-id-6 div.sk-estimator:hover label.sk-toggleable__label-arrow:before {color: black;}#sk-container-id-6 div.sk-toggleable__content {max-height: 0;max-width: 0;overflow: hidden;text-align: left;background-color: #f0f8ff;}#sk-container-id-6 div.sk-toggleable__content pre {margin: 0.2em;color: black;border-radius: 0.25em;background-color: #f0f8ff;}#sk-container-id-6 input.sk-toggleable__control:checked~div.sk-toggleable__content {max-height: 200px;max-width: 100%;overflow: auto;}#sk-container-id-6 input.sk-toggleable__control:checked~label.sk-toggleable__label-arrow:before {content: \"▾\";}#sk-container-id-6 div.sk-estimator input.sk-toggleable__control:checked~label.sk-toggleable__label {background-color: #d4ebff;}#sk-container-id-6 div.sk-label input.sk-toggleable__control:checked~label.sk-toggleable__label {background-color: #d4ebff;}#sk-container-id-6 input.sk-hidden--visually {border: 0;clip: rect(1px 1px 1px 1px);clip: rect(1px, 1px, 1px, 1px);height: 1px;margin: -1px;overflow: hidden;padding: 0;position: absolute;width: 1px;}#sk-container-id-6 div.sk-estimator {font-family: monospace;background-color: #f0f8ff;border: 1px dotted black;border-radius: 0.25em;box-sizing: border-box;margin-bottom: 0.5em;}#sk-container-id-6 div.sk-estimator:hover {background-color: #d4ebff;}#sk-container-id-6 div.sk-parallel-item::after {content: \"\";width: 100%;border-bottom: 1px solid gray;flex-grow: 1;}#sk-container-id-6 div.sk-label:hover label.sk-toggleable__label {background-color: #d4ebff;}#sk-container-id-6 div.sk-serial::before {content: \"\";position: absolute;border-left: 1px solid gray;box-sizing: border-box;top: 0;bottom: 0;left: 50%;z-index: 0;}#sk-container-id-6 div.sk-serial {display: flex;flex-direction: column;align-items: center;background-color: white;padding-right: 0.2em;padding-left: 0.2em;position: relative;}#sk-container-id-6 div.sk-item {position: relative;z-index: 1;}#sk-container-id-6 div.sk-parallel {display: flex;align-items: stretch;justify-content: center;background-color: white;position: relative;}#sk-container-id-6 div.sk-item::before, #sk-container-id-6 div.sk-parallel-item::before {content: \"\";position: absolute;border-left: 1px solid gray;box-sizing: border-box;top: 0;bottom: 0;left: 50%;z-index: -1;}#sk-container-id-6 div.sk-parallel-item {display: flex;flex-direction: column;z-index: 1;position: relative;background-color: white;}#sk-container-id-6 div.sk-parallel-item:first-child::after {align-self: flex-end;width: 50%;}#sk-container-id-6 div.sk-parallel-item:last-child::after {align-self: flex-start;width: 50%;}#sk-container-id-6 div.sk-parallel-item:only-child::after {width: 0;}#sk-container-id-6 div.sk-dashed-wrapped {border: 1px dashed gray;margin: 0 0.4em 0.5em 0.4em;box-sizing: border-box;padding-bottom: 0.4em;background-color: white;}#sk-container-id-6 div.sk-label label {font-family: monospace;font-weight: bold;display: inline-block;line-height: 1.2em;}#sk-container-id-6 div.sk-label-container {text-align: center;}#sk-container-id-6 div.sk-container {/* jupyter's `normalize.less` sets `[hidden] { display: none; }` but bootstrap.min.css set `[hidden] { display: none !important; }` so we also need the `!important` here to be able to override the default hidden behavior on the sphinx rendered scikit-learn.org. See: https://github.com/scikit-learn/scikit-learn/issues/21755 */display: inline-block !important;position: relative;}#sk-container-id-6 div.sk-text-repr-fallback {display: none;}</style><div id=\"sk-container-id-6\" class=\"sk-top-container\"><div class=\"sk-text-repr-fallback\"><pre>ColumnTransformer(transformers=[(&#x27;num&#x27;,\n",
              "                                 Pipeline(steps=[(&#x27;simpleimputer&#x27;,\n",
              "                                                  SimpleImputer()),\n",
              "                                                 (&#x27;standardscaler&#x27;,\n",
              "                                                  StandardScaler())]),\n",
              "                                 Index([&#x27;wind_speed_100m (km/h)&#x27;, &#x27;soil_temperature_28_to_100cm (°C)&#x27;,\n",
              "       &#x27;soil_moisture_7_to_28cm (m³/m³)&#x27;, &#x27;is_day ()&#x27;],\n",
              "      dtype=&#x27;object&#x27;))])</pre><b>In a Jupyter environment, please rerun this cell to show the HTML representation or trust the notebook. <br />On GitHub, the HTML representation is unable to render, please try loading this page with nbviewer.org.</b></div><div class=\"sk-container\" hidden><div class=\"sk-item sk-dashed-wrapped\"><div class=\"sk-label-container\"><div class=\"sk-label sk-toggleable\"><input class=\"sk-toggleable__control sk-hidden--visually\" id=\"sk-estimator-id-21\" type=\"checkbox\" ><label for=\"sk-estimator-id-21\" class=\"sk-toggleable__label sk-toggleable__label-arrow\">ColumnTransformer</label><div class=\"sk-toggleable__content\"><pre>ColumnTransformer(transformers=[(&#x27;num&#x27;,\n",
              "                                 Pipeline(steps=[(&#x27;simpleimputer&#x27;,\n",
              "                                                  SimpleImputer()),\n",
              "                                                 (&#x27;standardscaler&#x27;,\n",
              "                                                  StandardScaler())]),\n",
              "                                 Index([&#x27;wind_speed_100m (km/h)&#x27;, &#x27;soil_temperature_28_to_100cm (°C)&#x27;,\n",
              "       &#x27;soil_moisture_7_to_28cm (m³/m³)&#x27;, &#x27;is_day ()&#x27;],\n",
              "      dtype=&#x27;object&#x27;))])</pre></div></div></div><div class=\"sk-parallel\"><div class=\"sk-parallel-item\"><div class=\"sk-item\"><div class=\"sk-label-container\"><div class=\"sk-label sk-toggleable\"><input class=\"sk-toggleable__control sk-hidden--visually\" id=\"sk-estimator-id-22\" type=\"checkbox\" ><label for=\"sk-estimator-id-22\" class=\"sk-toggleable__label sk-toggleable__label-arrow\">num</label><div class=\"sk-toggleable__content\"><pre>Index([&#x27;wind_speed_100m (km/h)&#x27;, &#x27;soil_temperature_28_to_100cm (°C)&#x27;,\n",
              "       &#x27;soil_moisture_7_to_28cm (m³/m³)&#x27;, &#x27;is_day ()&#x27;],\n",
              "      dtype=&#x27;object&#x27;)</pre></div></div></div><div class=\"sk-serial\"><div class=\"sk-item\"><div class=\"sk-serial\"><div class=\"sk-item\"><div class=\"sk-estimator sk-toggleable\"><input class=\"sk-toggleable__control sk-hidden--visually\" id=\"sk-estimator-id-23\" type=\"checkbox\" ><label for=\"sk-estimator-id-23\" class=\"sk-toggleable__label sk-toggleable__label-arrow\">SimpleImputer</label><div class=\"sk-toggleable__content\"><pre>SimpleImputer()</pre></div></div></div><div class=\"sk-item\"><div class=\"sk-estimator sk-toggleable\"><input class=\"sk-toggleable__control sk-hidden--visually\" id=\"sk-estimator-id-24\" type=\"checkbox\" ><label for=\"sk-estimator-id-24\" class=\"sk-toggleable__label sk-toggleable__label-arrow\">StandardScaler</label><div class=\"sk-toggleable__content\"><pre>StandardScaler()</pre></div></div></div></div></div></div></div></div></div></div></div></div>"
            ]
          },
          "metadata": {},
          "execution_count": 59
        }
      ]
    },
    {
      "cell_type": "code",
      "source": [
        "#Creating the model\n",
        "model_ann = Sequential()\n",
        "model_ann.add(Dense(64, activation='relu', input_shape=(len(numeric_features_ann),)))\n",
        "model_ann.add(Dense(32, activation='relu'))\n",
        "model_ann.add(Dense(1, activation='linear'))  # Regression output layer\n",
        "\n",
        "# Compiling the model\n",
        "model_ann.compile(optimizer=Adam(learning_rate=0.001), loss='mean_squared_error')\n",
        "\n",
        "# Transforming the training data\n",
        "X_train_ann_transformed = preprocessor_ann.transform(X_train_ann)\n",
        "\n",
        "model_ann.fit(X_train_ann_transformed, y_train_ann, epochs=50, batch_size=32, validation_split=0.2, verbose=1)\n",
        "\n",
        "# Transforming the test data\n",
        "X_test_ann_transformed = preprocessor_ann.transform(X_test_ann)\n",
        "\n",
        "# Making predictions on the test set\n",
        "y_pred_ann = model_ann.predict(X_test_ann_transformed)\n",
        "\n",
        "# Evaluating the model\n",
        "mse_ann = mean_squared_error(y_test_ann, y_pred_ann)\n",
        "print(f'Mean Squared Error: {mse_ann}')"
      ],
      "metadata": {
        "colab": {
          "base_uri": "https://localhost:8080/"
        },
        "id": "FvK1KOqCYx1W",
        "outputId": "2112909d-54b9-4955-bff1-b92cb70f8292"
      },
      "execution_count": 60,
      "outputs": [
        {
          "output_type": "stream",
          "name": "stdout",
          "text": [
            "Epoch 1/50\n",
            "1827/1827 [==============================] - 5s 2ms/step - loss: 0.4065 - val_loss: 0.4512\n",
            "Epoch 2/50\n",
            "1827/1827 [==============================] - 6s 3ms/step - loss: 0.3878 - val_loss: 0.4392\n",
            "Epoch 3/50\n",
            "1827/1827 [==============================] - 4s 2ms/step - loss: 0.3760 - val_loss: 0.4266\n",
            "Epoch 4/50\n",
            "1827/1827 [==============================] - 4s 2ms/step - loss: 0.3700 - val_loss: 0.4257\n",
            "Epoch 5/50\n",
            "1827/1827 [==============================] - 6s 3ms/step - loss: 0.3648 - val_loss: 0.4116\n",
            "Epoch 6/50\n",
            "1827/1827 [==============================] - 4s 2ms/step - loss: 0.3612 - val_loss: 0.4084\n",
            "Epoch 7/50\n",
            "1827/1827 [==============================] - 4s 2ms/step - loss: 0.3599 - val_loss: 0.4053\n",
            "Epoch 8/50\n",
            "1827/1827 [==============================] - 6s 3ms/step - loss: 0.3585 - val_loss: 0.4091\n",
            "Epoch 9/50\n",
            "1827/1827 [==============================] - 4s 2ms/step - loss: 0.3555 - val_loss: 0.4048\n",
            "Epoch 10/50\n",
            "1827/1827 [==============================] - 7s 4ms/step - loss: 0.3554 - val_loss: 0.4036\n",
            "Epoch 11/50\n",
            "1827/1827 [==============================] - 7s 4ms/step - loss: 0.3541 - val_loss: 0.4059\n",
            "Epoch 12/50\n",
            "1827/1827 [==============================] - 4s 2ms/step - loss: 0.3536 - val_loss: 0.4113\n",
            "Epoch 13/50\n",
            "1827/1827 [==============================] - 6s 3ms/step - loss: 0.3546 - val_loss: 0.4013\n",
            "Epoch 14/50\n",
            "1827/1827 [==============================] - 4s 2ms/step - loss: 0.3541 - val_loss: 0.4044\n",
            "Epoch 15/50\n",
            "1827/1827 [==============================] - 4s 2ms/step - loss: 0.3529 - val_loss: 0.3999\n",
            "Epoch 16/50\n",
            "1827/1827 [==============================] - 6s 3ms/step - loss: 0.3502 - val_loss: 0.4181\n",
            "Epoch 17/50\n",
            "1827/1827 [==============================] - 5s 3ms/step - loss: 0.3521 - val_loss: 0.4030\n",
            "Epoch 18/50\n",
            "1827/1827 [==============================] - 4s 2ms/step - loss: 0.3517 - val_loss: 0.4134\n",
            "Epoch 19/50\n",
            "1827/1827 [==============================] - 6s 3ms/step - loss: 0.3492 - val_loss: 0.4064\n",
            "Epoch 20/50\n",
            "1827/1827 [==============================] - 4s 2ms/step - loss: 0.3506 - val_loss: 0.4033\n",
            "Epoch 21/50\n",
            "1827/1827 [==============================] - 4s 2ms/step - loss: 0.3462 - val_loss: 0.4002\n",
            "Epoch 22/50\n",
            "1827/1827 [==============================] - 6s 3ms/step - loss: 0.3460 - val_loss: 0.4060\n",
            "Epoch 23/50\n",
            "1827/1827 [==============================] - 4s 2ms/step - loss: 0.3473 - val_loss: 0.4007\n",
            "Epoch 24/50\n",
            "1827/1827 [==============================] - 4s 2ms/step - loss: 0.3490 - val_loss: 0.4052\n",
            "Epoch 25/50\n",
            "1827/1827 [==============================] - 6s 3ms/step - loss: 0.3490 - val_loss: 0.4126\n",
            "Epoch 26/50\n",
            "1827/1827 [==============================] - 4s 2ms/step - loss: 0.3457 - val_loss: 0.4010\n",
            "Epoch 27/50\n",
            "1827/1827 [==============================] - 4s 2ms/step - loss: 0.3475 - val_loss: 0.3998\n",
            "Epoch 28/50\n",
            "1827/1827 [==============================] - 6s 3ms/step - loss: 0.3452 - val_loss: 0.4036\n",
            "Epoch 29/50\n",
            "1827/1827 [==============================] - 4s 2ms/step - loss: 0.3443 - val_loss: 0.3993\n",
            "Epoch 30/50\n",
            "1827/1827 [==============================] - 4s 2ms/step - loss: 0.3439 - val_loss: 0.4009\n",
            "Epoch 31/50\n",
            "1827/1827 [==============================] - 6s 3ms/step - loss: 0.3464 - val_loss: 0.3920\n",
            "Epoch 32/50\n",
            "1827/1827 [==============================] - 4s 2ms/step - loss: 0.3440 - val_loss: 0.4016\n",
            "Epoch 33/50\n",
            "1827/1827 [==============================] - 4s 2ms/step - loss: 0.3437 - val_loss: 0.4078\n",
            "Epoch 34/50\n",
            "1827/1827 [==============================] - 6s 3ms/step - loss: 0.3438 - val_loss: 0.3953\n",
            "Epoch 35/50\n",
            "1827/1827 [==============================] - 4s 2ms/step - loss: 0.3414 - val_loss: 0.3994\n",
            "Epoch 36/50\n",
            "1827/1827 [==============================] - 4s 2ms/step - loss: 0.3446 - val_loss: 0.3979\n",
            "Epoch 37/50\n",
            "1827/1827 [==============================] - 6s 3ms/step - loss: 0.3422 - val_loss: 0.4079\n",
            "Epoch 38/50\n",
            "1827/1827 [==============================] - 4s 2ms/step - loss: 0.3405 - val_loss: 0.4040\n",
            "Epoch 39/50\n",
            "1827/1827 [==============================] - 4s 2ms/step - loss: 0.3410 - val_loss: 0.3952\n",
            "Epoch 40/50\n",
            "1827/1827 [==============================] - 6s 3ms/step - loss: 0.3419 - val_loss: 0.3947\n",
            "Epoch 41/50\n",
            "1827/1827 [==============================] - 4s 2ms/step - loss: 0.3410 - val_loss: 0.3887\n",
            "Epoch 42/50\n",
            "1827/1827 [==============================] - 4s 2ms/step - loss: 0.3398 - val_loss: 0.3887\n",
            "Epoch 43/50\n",
            "1827/1827 [==============================] - 6s 3ms/step - loss: 0.3403 - val_loss: 0.3872\n",
            "Epoch 44/50\n",
            "1827/1827 [==============================] - 4s 2ms/step - loss: 0.3373 - val_loss: 0.3982\n",
            "Epoch 45/50\n",
            "1827/1827 [==============================] - 4s 2ms/step - loss: 0.3378 - val_loss: 0.3899\n",
            "Epoch 46/50\n",
            "1827/1827 [==============================] - 6s 3ms/step - loss: 0.3356 - val_loss: 0.3963\n",
            "Epoch 47/50\n",
            "1827/1827 [==============================] - 4s 2ms/step - loss: 0.3376 - val_loss: 0.3897\n",
            "Epoch 48/50\n",
            "1827/1827 [==============================] - 4s 2ms/step - loss: 0.3362 - val_loss: 0.4179\n",
            "Epoch 49/50\n",
            "1827/1827 [==============================] - 6s 3ms/step - loss: 0.3384 - val_loss: 0.3934\n",
            "Epoch 50/50\n",
            "1827/1827 [==============================] - 4s 2ms/step - loss: 0.3356 - val_loss: 0.3951\n",
            "571/571 [==============================] - 1s 1ms/step\n",
            "Mean Squared Error: 0.39361786333318266\n"
          ]
        }
      ]
    },
    {
      "cell_type": "markdown",
      "source": [
        "**NEURAL NETWORK: 5 LAYERS (MSE: 0.390)**"
      ],
      "metadata": {
        "id": "V7EWdPODQRUN"
      }
    },
    {
      "cell_type": "code",
      "source": [
        "import pandas as pd\n",
        "from sklearn.model_selection import train_test_split\n",
        "from sklearn.metrics import mean_squared_error, r2_score\n",
        "from sklearn.preprocessing import StandardScaler\n",
        "from sklearn.impute import SimpleImputer\n",
        "from sklearn.compose import ColumnTransformer\n",
        "from sklearn.pipeline import make_pipeline\n",
        "import tensorflow as tf\n",
        "from tensorflow.keras.models import Sequential\n",
        "from tensorflow.keras.layers import Dense"
      ],
      "metadata": {
        "id": "CWQ0IlwFQRvS"
      },
      "execution_count": 51,
      "outputs": []
    },
    {
      "cell_type": "code",
      "source": [
        "# Loading the dataset\n",
        "data = pd.read_csv('weather.csv')\n",
        "\n",
        "#Data Preprocessing\n",
        "data = data.drop(columns=['time'])"
      ],
      "metadata": {
        "colab": {
          "base_uri": "https://localhost:8080/"
        },
        "id": "tRsbIRwrQR4C",
        "outputId": "232ed857-da6e-46dc-9427-258d6f58b823"
      },
      "execution_count": 52,
      "outputs": [
        {
          "output_type": "stream",
          "name": "stderr",
          "text": [
            "<ipython-input-52-3e72b9e36910>:2: DtypeWarning: Columns (1,2,3) have mixed types. Specify dtype option on import or set low_memory=False.\n",
            "  data = pd.read_csv('weather.csv')\n"
          ]
        }
      ]
    },
    {
      "cell_type": "code",
      "source": [
        "# Separating features as (X) and target variable as (y)\n",
        "X = data.drop(columns=['rain (mm)'])\n",
        "y = data['rain (mm)']\n",
        "\n",
        "# Correcting missing values in the target variable\n",
        "y = y.fillna(0)"
      ],
      "metadata": {
        "id": "-fRivlLLQSBx"
      },
      "execution_count": 53,
      "outputs": []
    },
    {
      "cell_type": "code",
      "source": [
        "# Split the data into training and testing sets\n",
        "X_train, X_test, y_train, y_test = train_test_split(X, y, test_size=0.2, random_state=42)\n",
        "\n",
        "# Further preprocessing\n",
        "numeric_features = X.select_dtypes(include=['float64']).columns\n",
        "numeric_transformer = make_pipeline(\n",
        "    SimpleImputer(strategy='mean'),\n",
        "    StandardScaler()\n",
        ")\n",
        "\n",
        "preprocessor = ColumnTransformer(\n",
        "    transformers=[\n",
        "        ('num', numeric_transformer, numeric_features)\n",
        "    ])"
      ],
      "metadata": {
        "id": "rRx2iE-gQSLO"
      },
      "execution_count": 54,
      "outputs": []
    },
    {
      "cell_type": "code",
      "source": [
        "preprocessor.fit(X_train)"
      ],
      "metadata": {
        "colab": {
          "base_uri": "https://localhost:8080/",
          "height": 150
        },
        "id": "pxEmbZ2bQSTY",
        "outputId": "e373760a-1bcc-4733-8c39-3baac9cbd8fa"
      },
      "execution_count": 55,
      "outputs": [
        {
          "output_type": "execute_result",
          "data": {
            "text/plain": [
              "ColumnTransformer(transformers=[('num',\n",
              "                                 Pipeline(steps=[('simpleimputer',\n",
              "                                                  SimpleImputer()),\n",
              "                                                 ('standardscaler',\n",
              "                                                  StandardScaler())]),\n",
              "                                 Index(['wind_speed_100m (km/h)', 'soil_temperature_28_to_100cm (°C)',\n",
              "       'soil_moisture_7_to_28cm (m³/m³)', 'is_day ()'],\n",
              "      dtype='object'))])"
            ],
            "text/html": [
              "<style>#sk-container-id-5 {color: black;background-color: white;}#sk-container-id-5 pre{padding: 0;}#sk-container-id-5 div.sk-toggleable {background-color: white;}#sk-container-id-5 label.sk-toggleable__label {cursor: pointer;display: block;width: 100%;margin-bottom: 0;padding: 0.3em;box-sizing: border-box;text-align: center;}#sk-container-id-5 label.sk-toggleable__label-arrow:before {content: \"▸\";float: left;margin-right: 0.25em;color: #696969;}#sk-container-id-5 label.sk-toggleable__label-arrow:hover:before {color: black;}#sk-container-id-5 div.sk-estimator:hover label.sk-toggleable__label-arrow:before {color: black;}#sk-container-id-5 div.sk-toggleable__content {max-height: 0;max-width: 0;overflow: hidden;text-align: left;background-color: #f0f8ff;}#sk-container-id-5 div.sk-toggleable__content pre {margin: 0.2em;color: black;border-radius: 0.25em;background-color: #f0f8ff;}#sk-container-id-5 input.sk-toggleable__control:checked~div.sk-toggleable__content {max-height: 200px;max-width: 100%;overflow: auto;}#sk-container-id-5 input.sk-toggleable__control:checked~label.sk-toggleable__label-arrow:before {content: \"▾\";}#sk-container-id-5 div.sk-estimator input.sk-toggleable__control:checked~label.sk-toggleable__label {background-color: #d4ebff;}#sk-container-id-5 div.sk-label input.sk-toggleable__control:checked~label.sk-toggleable__label {background-color: #d4ebff;}#sk-container-id-5 input.sk-hidden--visually {border: 0;clip: rect(1px 1px 1px 1px);clip: rect(1px, 1px, 1px, 1px);height: 1px;margin: -1px;overflow: hidden;padding: 0;position: absolute;width: 1px;}#sk-container-id-5 div.sk-estimator {font-family: monospace;background-color: #f0f8ff;border: 1px dotted black;border-radius: 0.25em;box-sizing: border-box;margin-bottom: 0.5em;}#sk-container-id-5 div.sk-estimator:hover {background-color: #d4ebff;}#sk-container-id-5 div.sk-parallel-item::after {content: \"\";width: 100%;border-bottom: 1px solid gray;flex-grow: 1;}#sk-container-id-5 div.sk-label:hover label.sk-toggleable__label {background-color: #d4ebff;}#sk-container-id-5 div.sk-serial::before {content: \"\";position: absolute;border-left: 1px solid gray;box-sizing: border-box;top: 0;bottom: 0;left: 50%;z-index: 0;}#sk-container-id-5 div.sk-serial {display: flex;flex-direction: column;align-items: center;background-color: white;padding-right: 0.2em;padding-left: 0.2em;position: relative;}#sk-container-id-5 div.sk-item {position: relative;z-index: 1;}#sk-container-id-5 div.sk-parallel {display: flex;align-items: stretch;justify-content: center;background-color: white;position: relative;}#sk-container-id-5 div.sk-item::before, #sk-container-id-5 div.sk-parallel-item::before {content: \"\";position: absolute;border-left: 1px solid gray;box-sizing: border-box;top: 0;bottom: 0;left: 50%;z-index: -1;}#sk-container-id-5 div.sk-parallel-item {display: flex;flex-direction: column;z-index: 1;position: relative;background-color: white;}#sk-container-id-5 div.sk-parallel-item:first-child::after {align-self: flex-end;width: 50%;}#sk-container-id-5 div.sk-parallel-item:last-child::after {align-self: flex-start;width: 50%;}#sk-container-id-5 div.sk-parallel-item:only-child::after {width: 0;}#sk-container-id-5 div.sk-dashed-wrapped {border: 1px dashed gray;margin: 0 0.4em 0.5em 0.4em;box-sizing: border-box;padding-bottom: 0.4em;background-color: white;}#sk-container-id-5 div.sk-label label {font-family: monospace;font-weight: bold;display: inline-block;line-height: 1.2em;}#sk-container-id-5 div.sk-label-container {text-align: center;}#sk-container-id-5 div.sk-container {/* jupyter's `normalize.less` sets `[hidden] { display: none; }` but bootstrap.min.css set `[hidden] { display: none !important; }` so we also need the `!important` here to be able to override the default hidden behavior on the sphinx rendered scikit-learn.org. See: https://github.com/scikit-learn/scikit-learn/issues/21755 */display: inline-block !important;position: relative;}#sk-container-id-5 div.sk-text-repr-fallback {display: none;}</style><div id=\"sk-container-id-5\" class=\"sk-top-container\"><div class=\"sk-text-repr-fallback\"><pre>ColumnTransformer(transformers=[(&#x27;num&#x27;,\n",
              "                                 Pipeline(steps=[(&#x27;simpleimputer&#x27;,\n",
              "                                                  SimpleImputer()),\n",
              "                                                 (&#x27;standardscaler&#x27;,\n",
              "                                                  StandardScaler())]),\n",
              "                                 Index([&#x27;wind_speed_100m (km/h)&#x27;, &#x27;soil_temperature_28_to_100cm (°C)&#x27;,\n",
              "       &#x27;soil_moisture_7_to_28cm (m³/m³)&#x27;, &#x27;is_day ()&#x27;],\n",
              "      dtype=&#x27;object&#x27;))])</pre><b>In a Jupyter environment, please rerun this cell to show the HTML representation or trust the notebook. <br />On GitHub, the HTML representation is unable to render, please try loading this page with nbviewer.org.</b></div><div class=\"sk-container\" hidden><div class=\"sk-item sk-dashed-wrapped\"><div class=\"sk-label-container\"><div class=\"sk-label sk-toggleable\"><input class=\"sk-toggleable__control sk-hidden--visually\" id=\"sk-estimator-id-17\" type=\"checkbox\" ><label for=\"sk-estimator-id-17\" class=\"sk-toggleable__label sk-toggleable__label-arrow\">ColumnTransformer</label><div class=\"sk-toggleable__content\"><pre>ColumnTransformer(transformers=[(&#x27;num&#x27;,\n",
              "                                 Pipeline(steps=[(&#x27;simpleimputer&#x27;,\n",
              "                                                  SimpleImputer()),\n",
              "                                                 (&#x27;standardscaler&#x27;,\n",
              "                                                  StandardScaler())]),\n",
              "                                 Index([&#x27;wind_speed_100m (km/h)&#x27;, &#x27;soil_temperature_28_to_100cm (°C)&#x27;,\n",
              "       &#x27;soil_moisture_7_to_28cm (m³/m³)&#x27;, &#x27;is_day ()&#x27;],\n",
              "      dtype=&#x27;object&#x27;))])</pre></div></div></div><div class=\"sk-parallel\"><div class=\"sk-parallel-item\"><div class=\"sk-item\"><div class=\"sk-label-container\"><div class=\"sk-label sk-toggleable\"><input class=\"sk-toggleable__control sk-hidden--visually\" id=\"sk-estimator-id-18\" type=\"checkbox\" ><label for=\"sk-estimator-id-18\" class=\"sk-toggleable__label sk-toggleable__label-arrow\">num</label><div class=\"sk-toggleable__content\"><pre>Index([&#x27;wind_speed_100m (km/h)&#x27;, &#x27;soil_temperature_28_to_100cm (°C)&#x27;,\n",
              "       &#x27;soil_moisture_7_to_28cm (m³/m³)&#x27;, &#x27;is_day ()&#x27;],\n",
              "      dtype=&#x27;object&#x27;)</pre></div></div></div><div class=\"sk-serial\"><div class=\"sk-item\"><div class=\"sk-serial\"><div class=\"sk-item\"><div class=\"sk-estimator sk-toggleable\"><input class=\"sk-toggleable__control sk-hidden--visually\" id=\"sk-estimator-id-19\" type=\"checkbox\" ><label for=\"sk-estimator-id-19\" class=\"sk-toggleable__label sk-toggleable__label-arrow\">SimpleImputer</label><div class=\"sk-toggleable__content\"><pre>SimpleImputer()</pre></div></div></div><div class=\"sk-item\"><div class=\"sk-estimator sk-toggleable\"><input class=\"sk-toggleable__control sk-hidden--visually\" id=\"sk-estimator-id-20\" type=\"checkbox\" ><label for=\"sk-estimator-id-20\" class=\"sk-toggleable__label sk-toggleable__label-arrow\">StandardScaler</label><div class=\"sk-toggleable__content\"><pre>StandardScaler()</pre></div></div></div></div></div></div></div></div></div></div></div></div>"
            ]
          },
          "metadata": {},
          "execution_count": 55
        }
      ]
    },
    {
      "cell_type": "code",
      "source": [
        "# Creating a deeper neural network model\n",
        "model_nn = Sequential([\n",
        "    Dense(128, activation='relu', input_shape=(len(numeric_features),)),\n",
        "    Dense(64, activation='relu'),\n",
        "    Dense(32, activation='relu'),\n",
        "    Dense(16, activation='relu'),\n",
        "    Dense(1)  # Output layer with 1 neuron for regression\n",
        "])"
      ],
      "metadata": {
        "id": "5_2pB4I9SB6i"
      },
      "execution_count": 56,
      "outputs": []
    },
    {
      "cell_type": "code",
      "source": [
        "# Compiling the model with a lower learning rate\n",
        "model_nn.compile(optimizer=tf.keras.optimizers.Adam(learning_rate=0.0001), loss='mean_squared_error')\n",
        "\n",
        "# Displaying model summary\n",
        "model_nn.summary()"
      ],
      "metadata": {
        "colab": {
          "base_uri": "https://localhost:8080/"
        },
        "id": "w2issy4qSQ2U",
        "outputId": "e42065e8-5d37-4a18-8a6e-b97de479a163"
      },
      "execution_count": 57,
      "outputs": [
        {
          "output_type": "stream",
          "name": "stdout",
          "text": [
            "Model: \"sequential_4\"\n",
            "_________________________________________________________________\n",
            " Layer (type)                Output Shape              Param #   \n",
            "=================================================================\n",
            " dense_14 (Dense)            (None, 128)               640       \n",
            "                                                                 \n",
            " dense_15 (Dense)            (None, 64)                8256      \n",
            "                                                                 \n",
            " dense_16 (Dense)            (None, 32)                2080      \n",
            "                                                                 \n",
            " dense_17 (Dense)            (None, 16)                528       \n",
            "                                                                 \n",
            " dense_18 (Dense)            (None, 1)                 17        \n",
            "                                                                 \n",
            "=================================================================\n",
            "Total params: 11521 (45.00 KB)\n",
            "Trainable params: 11521 (45.00 KB)\n",
            "Non-trainable params: 0 (0.00 Byte)\n",
            "_________________________________________________________________\n"
          ]
        }
      ]
    },
    {
      "cell_type": "code",
      "source": [
        "# Training the model with 100 epochs\n",
        "model_nn.fit(preprocessor.transform(X_train), y_train, epochs=100, batch_size=32, validation_split=0.2, verbose=1)\n",
        "\n",
        "# Making predictions on the test set\n",
        "y_pred_nn = model_nn.predict(preprocessor.transform(X_test))\n",
        "\n",
        "# Evaluating the model\n",
        "mse_nn = mean_squared_error(y_test, y_pred_nn)\n",
        "\n",
        "print(f'\\nMean Squared Error (Neural Network): {mse_nn}')"
      ],
      "metadata": {
        "colab": {
          "base_uri": "https://localhost:8080/"
        },
        "id": "9sTAPrghSQ7S",
        "outputId": "99b48605-4d1a-44cf-b74d-0959bfb688e6"
      },
      "execution_count": 58,
      "outputs": [
        {
          "output_type": "stream",
          "name": "stdout",
          "text": [
            "Epoch 1/100\n",
            "1827/1827 [==============================] - 10s 4ms/step - loss: 0.4219 - val_loss: 0.4636\n",
            "Epoch 2/100\n",
            "1827/1827 [==============================] - 5s 3ms/step - loss: 0.4015 - val_loss: 0.4515\n",
            "Epoch 3/100\n",
            "1827/1827 [==============================] - 7s 4ms/step - loss: 0.3917 - val_loss: 0.4419\n",
            "Epoch 4/100\n",
            "1827/1827 [==============================] - 6s 3ms/step - loss: 0.3848 - val_loss: 0.4353\n",
            "Epoch 5/100\n",
            "1827/1827 [==============================] - 6s 3ms/step - loss: 0.3788 - val_loss: 0.4328\n",
            "Epoch 6/100\n",
            "1827/1827 [==============================] - 7s 4ms/step - loss: 0.3737 - val_loss: 0.4251\n",
            "Epoch 7/100\n",
            "1827/1827 [==============================] - 6s 3ms/step - loss: 0.3691 - val_loss: 0.4211\n",
            "Epoch 8/100\n",
            "1827/1827 [==============================] - 6s 4ms/step - loss: 0.3663 - val_loss: 0.4193\n",
            "Epoch 9/100\n",
            "1827/1827 [==============================] - 5s 3ms/step - loss: 0.3634 - val_loss: 0.4155\n",
            "Epoch 10/100\n",
            "1827/1827 [==============================] - 5s 3ms/step - loss: 0.3606 - val_loss: 0.4149\n",
            "Epoch 11/100\n",
            "1827/1827 [==============================] - 7s 4ms/step - loss: 0.3591 - val_loss: 0.4112\n",
            "Epoch 12/100\n",
            "1827/1827 [==============================] - 6s 3ms/step - loss: 0.3559 - val_loss: 0.4080\n",
            "Epoch 13/100\n",
            "1827/1827 [==============================] - 6s 3ms/step - loss: 0.3536 - val_loss: 0.4093\n",
            "Epoch 14/100\n",
            "1827/1827 [==============================] - 5s 3ms/step - loss: 0.3530 - val_loss: 0.4068\n",
            "Epoch 15/100\n",
            "1827/1827 [==============================] - 6s 3ms/step - loss: 0.3532 - val_loss: 0.4035\n",
            "Epoch 16/100\n",
            "1827/1827 [==============================] - 9s 5ms/step - loss: 0.3515 - val_loss: 0.4086\n",
            "Epoch 17/100\n",
            "1827/1827 [==============================] - 5s 3ms/step - loss: 0.3494 - val_loss: 0.4070\n",
            "Epoch 18/100\n",
            "1827/1827 [==============================] - 7s 4ms/step - loss: 0.3499 - val_loss: 0.4022\n",
            "Epoch 19/100\n",
            "1827/1827 [==============================] - 5s 3ms/step - loss: 0.3493 - val_loss: 0.4058\n",
            "Epoch 20/100\n",
            "1827/1827 [==============================] - 6s 3ms/step - loss: 0.3465 - val_loss: 0.3975\n",
            "Epoch 21/100\n",
            "1827/1827 [==============================] - 9s 5ms/step - loss: 0.3473 - val_loss: 0.3985\n",
            "Epoch 22/100\n",
            "1827/1827 [==============================] - 6s 3ms/step - loss: 0.3454 - val_loss: 0.3978\n",
            "Epoch 23/100\n",
            "1827/1827 [==============================] - 5s 3ms/step - loss: 0.3461 - val_loss: 0.3992\n",
            "Epoch 24/100\n",
            "1827/1827 [==============================] - 7s 4ms/step - loss: 0.3448 - val_loss: 0.3968\n",
            "Epoch 25/100\n",
            "1827/1827 [==============================] - 9s 5ms/step - loss: 0.3442 - val_loss: 0.3962\n",
            "Epoch 26/100\n",
            "1827/1827 [==============================] - 9s 5ms/step - loss: 0.3443 - val_loss: 0.4008\n",
            "Epoch 27/100\n",
            "1827/1827 [==============================] - 5s 3ms/step - loss: 0.3432 - val_loss: 0.4002\n",
            "Epoch 28/100\n",
            "1827/1827 [==============================] - 9s 5ms/step - loss: 0.3408 - val_loss: 0.4080\n",
            "Epoch 29/100\n",
            "1827/1827 [==============================] - 8s 4ms/step - loss: 0.3432 - val_loss: 0.3936\n",
            "Epoch 30/100\n",
            "1827/1827 [==============================] - 10s 5ms/step - loss: 0.3423 - val_loss: 0.3946\n",
            "Epoch 31/100\n",
            "1827/1827 [==============================] - 10s 5ms/step - loss: 0.3388 - val_loss: 0.3924\n",
            "Epoch 32/100\n",
            "1827/1827 [==============================] - 8s 4ms/step - loss: 0.3408 - val_loss: 0.3965\n",
            "Epoch 33/100\n",
            "1827/1827 [==============================] - 11s 6ms/step - loss: 0.3393 - val_loss: 0.3934\n",
            "Epoch 34/100\n",
            "1827/1827 [==============================] - 11s 6ms/step - loss: 0.3407 - val_loss: 0.3986\n",
            "Epoch 35/100\n",
            "1827/1827 [==============================] - 10s 5ms/step - loss: 0.3406 - val_loss: 0.3927\n",
            "Epoch 36/100\n",
            "1827/1827 [==============================] - 14s 7ms/step - loss: 0.3402 - val_loss: 0.3937\n",
            "Epoch 37/100\n",
            "1827/1827 [==============================] - 6s 3ms/step - loss: 0.3392 - val_loss: 0.3980\n",
            "Epoch 38/100\n",
            "1827/1827 [==============================] - 6s 3ms/step - loss: 0.3401 - val_loss: 0.3944\n",
            "Epoch 39/100\n",
            "1827/1827 [==============================] - 5s 3ms/step - loss: 0.3378 - val_loss: 0.3967\n",
            "Epoch 40/100\n",
            "1827/1827 [==============================] - 7s 4ms/step - loss: 0.3371 - val_loss: 0.3974\n",
            "Epoch 41/100\n",
            "1827/1827 [==============================] - 5s 3ms/step - loss: 0.3387 - val_loss: 0.3903\n",
            "Epoch 42/100\n",
            "1827/1827 [==============================] - 6s 3ms/step - loss: 0.3389 - val_loss: 0.3940\n",
            "Epoch 43/100\n",
            "1827/1827 [==============================] - 6s 3ms/step - loss: 0.3364 - val_loss: 0.4012\n",
            "Epoch 44/100\n",
            "1827/1827 [==============================] - 5s 3ms/step - loss: 0.3368 - val_loss: 0.3896\n",
            "Epoch 45/100\n",
            "1827/1827 [==============================] - 7s 4ms/step - loss: 0.3366 - val_loss: 0.3960\n",
            "Epoch 46/100\n",
            "1827/1827 [==============================] - 6s 3ms/step - loss: 0.3366 - val_loss: 0.3903\n",
            "Epoch 47/100\n",
            "1827/1827 [==============================] - 6s 3ms/step - loss: 0.3364 - val_loss: 0.3953\n",
            "Epoch 48/100\n",
            "1827/1827 [==============================] - 6s 4ms/step - loss: 0.3355 - val_loss: 0.3948\n",
            "Epoch 49/100\n",
            "1827/1827 [==============================] - 5s 3ms/step - loss: 0.3359 - val_loss: 0.4004\n",
            "Epoch 50/100\n",
            "1827/1827 [==============================] - 7s 4ms/step - loss: 0.3350 - val_loss: 0.3904\n",
            "Epoch 51/100\n",
            "1827/1827 [==============================] - 6s 3ms/step - loss: 0.3335 - val_loss: 0.4053\n",
            "Epoch 52/100\n",
            "1827/1827 [==============================] - 6s 3ms/step - loss: 0.3359 - val_loss: 0.3950\n",
            "Epoch 53/100\n",
            "1827/1827 [==============================] - 6s 3ms/step - loss: 0.3351 - val_loss: 0.3973\n",
            "Epoch 54/100\n",
            "1827/1827 [==============================] - 5s 3ms/step - loss: 0.3370 - val_loss: 0.3899\n",
            "Epoch 55/100\n",
            "1827/1827 [==============================] - 7s 4ms/step - loss: 0.3340 - val_loss: 0.3947\n",
            "Epoch 56/100\n",
            "1827/1827 [==============================] - 5s 3ms/step - loss: 0.3349 - val_loss: 0.3932\n",
            "Epoch 57/100\n",
            "1827/1827 [==============================] - 6s 3ms/step - loss: 0.3359 - val_loss: 0.3870\n",
            "Epoch 58/100\n",
            "1827/1827 [==============================] - 5s 3ms/step - loss: 0.3319 - val_loss: 0.4148\n",
            "Epoch 59/100\n",
            "1827/1827 [==============================] - 6s 3ms/step - loss: 0.3333 - val_loss: 0.3978\n",
            "Epoch 60/100\n",
            "1827/1827 [==============================] - 7s 4ms/step - loss: 0.3348 - val_loss: 0.3860\n",
            "Epoch 61/100\n",
            "1827/1827 [==============================] - 5s 3ms/step - loss: 0.3330 - val_loss: 0.3941\n",
            "Epoch 62/100\n",
            "1827/1827 [==============================] - 6s 3ms/step - loss: 0.3319 - val_loss: 0.3883\n",
            "Epoch 63/100\n",
            "1827/1827 [==============================] - 6s 3ms/step - loss: 0.3325 - val_loss: 0.4008\n",
            "Epoch 64/100\n",
            "1827/1827 [==============================] - 6s 3ms/step - loss: 0.3328 - val_loss: 0.3996\n",
            "Epoch 65/100\n",
            "1827/1827 [==============================] - 7s 4ms/step - loss: 0.3335 - val_loss: 0.3907\n",
            "Epoch 66/100\n",
            "1827/1827 [==============================] - 5s 3ms/step - loss: 0.3327 - val_loss: 0.3945\n",
            "Epoch 67/100\n",
            "1827/1827 [==============================] - 6s 3ms/step - loss: 0.3325 - val_loss: 0.3932\n",
            "Epoch 68/100\n",
            "1827/1827 [==============================] - 6s 3ms/step - loss: 0.3326 - val_loss: 0.3885\n",
            "Epoch 69/100\n",
            "1827/1827 [==============================] - 5s 3ms/step - loss: 0.3289 - val_loss: 0.4032\n",
            "Epoch 70/100\n",
            "1827/1827 [==============================] - 7s 4ms/step - loss: 0.3324 - val_loss: 0.3883\n",
            "Epoch 71/100\n",
            "1827/1827 [==============================] - 5s 3ms/step - loss: 0.3306 - val_loss: 0.3960\n",
            "Epoch 72/100\n",
            "1827/1827 [==============================] - 6s 3ms/step - loss: 0.3301 - val_loss: 0.3879\n",
            "Epoch 73/100\n",
            "1827/1827 [==============================] - 7s 4ms/step - loss: 0.3317 - val_loss: 0.3885\n",
            "Epoch 74/100\n",
            "1827/1827 [==============================] - 5s 3ms/step - loss: 0.3318 - val_loss: 0.3851\n",
            "Epoch 75/100\n",
            "1827/1827 [==============================] - 7s 4ms/step - loss: 0.3316 - val_loss: 0.3930\n",
            "Epoch 76/100\n",
            "1827/1827 [==============================] - 5s 3ms/step - loss: 0.3309 - val_loss: 0.3879\n",
            "Epoch 77/100\n",
            "1827/1827 [==============================] - 6s 3ms/step - loss: 0.3318 - val_loss: 0.3881\n",
            "Epoch 78/100\n",
            "1827/1827 [==============================] - 6s 3ms/step - loss: 0.3324 - val_loss: 0.3834\n",
            "Epoch 79/100\n",
            "1827/1827 [==============================] - 5s 3ms/step - loss: 0.3298 - val_loss: 0.3914\n",
            "Epoch 80/100\n",
            "1827/1827 [==============================] - 7s 4ms/step - loss: 0.3301 - val_loss: 0.3985\n",
            "Epoch 81/100\n",
            "1827/1827 [==============================] - 6s 3ms/step - loss: 0.3311 - val_loss: 0.3822\n",
            "Epoch 82/100\n",
            "1827/1827 [==============================] - 6s 3ms/step - loss: 0.3295 - val_loss: 0.3961\n",
            "Epoch 83/100\n",
            "1827/1827 [==============================] - 6s 3ms/step - loss: 0.3293 - val_loss: 0.4056\n",
            "Epoch 84/100\n",
            "1827/1827 [==============================] - 5s 3ms/step - loss: 0.3300 - val_loss: 0.3834\n",
            "Epoch 85/100\n",
            "1827/1827 [==============================] - 7s 4ms/step - loss: 0.3301 - val_loss: 0.3992\n",
            "Epoch 86/100\n",
            "1827/1827 [==============================] - 5s 3ms/step - loss: 0.3302 - val_loss: 0.3869\n",
            "Epoch 87/100\n",
            "1827/1827 [==============================] - 6s 3ms/step - loss: 0.3305 - val_loss: 0.3938\n",
            "Epoch 88/100\n",
            "1827/1827 [==============================] - 6s 3ms/step - loss: 0.3304 - val_loss: 0.3916\n",
            "Epoch 89/100\n",
            "1827/1827 [==============================] - 5s 3ms/step - loss: 0.3296 - val_loss: 0.4030\n",
            "Epoch 90/100\n",
            "1827/1827 [==============================] - 7s 4ms/step - loss: 0.3286 - val_loss: 0.3927\n",
            "Epoch 91/100\n",
            "1827/1827 [==============================] - 6s 3ms/step - loss: 0.3284 - val_loss: 0.3913\n",
            "Epoch 92/100\n",
            "1827/1827 [==============================] - 6s 3ms/step - loss: 0.3273 - val_loss: 0.3878\n",
            "Epoch 93/100\n",
            "1827/1827 [==============================] - 6s 3ms/step - loss: 0.3281 - val_loss: 0.3899\n",
            "Epoch 94/100\n",
            "1827/1827 [==============================] - 6s 3ms/step - loss: 0.3289 - val_loss: 0.3888\n",
            "Epoch 95/100\n",
            "1827/1827 [==============================] - 7s 4ms/step - loss: 0.3269 - val_loss: 0.3843\n",
            "Epoch 96/100\n",
            "1827/1827 [==============================] - 5s 3ms/step - loss: 0.3288 - val_loss: 0.3861\n",
            "Epoch 97/100\n",
            "1827/1827 [==============================] - 6s 3ms/step - loss: 0.3280 - val_loss: 0.3856\n",
            "Epoch 98/100\n",
            "1827/1827 [==============================] - 6s 3ms/step - loss: 0.3270 - val_loss: 0.3828\n",
            "Epoch 99/100\n",
            "1827/1827 [==============================] - 6s 3ms/step - loss: 0.3271 - val_loss: 0.3836\n",
            "Epoch 100/100\n",
            "1827/1827 [==============================] - 7s 4ms/step - loss: 0.3279 - val_loss: 0.3865\n",
            "571/571 [==============================] - 1s 2ms/step\n",
            "\n",
            "Mean Squared Error (Neural Network): 0.3913908978257994\n"
          ]
        }
      ]
    }
  ]
}
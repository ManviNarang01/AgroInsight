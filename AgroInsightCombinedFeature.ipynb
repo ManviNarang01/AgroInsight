{
  "nbformat": 4,
  "nbformat_minor": 0,
  "metadata": {
    "colab": {
      "provenance": [],
      "authorship_tag": "ABX9TyNxswYIq67Zda/aJz1kjlxy",
      "include_colab_link": true
    },
    "kernelspec": {
      "name": "python3",
      "display_name": "Python 3"
    },
    "language_info": {
      "name": "python"
    }
  },
  "cells": [
    {
      "cell_type": "markdown",
      "metadata": {
        "id": "view-in-github",
        "colab_type": "text"
      },
      "source": [
        "<a href=\"https://colab.research.google.com/github/ManviNarang01/AgroInsight/blob/main/AgroInsightCombinedFeature.ipynb\" target=\"_parent\"><img src=\"https://colab.research.google.com/assets/colab-badge.svg\" alt=\"Open In Colab\"/></a>"
      ]
    },
    {
      "cell_type": "markdown",
      "source": [
        "This model performs a comprehensive analysis of weather and crop data for agricultural decision support. The first part focuses on rainfall prediction using an XGBoost regression model. The weather dataset is preprocessed, and missing rainfall values are filled with zeros. The data is split into training and testing sets, and a preprocessing pipeline is defined to handle numeric features. An XGBoost regressor is then employed to predict rainfall, and the model's performance is evaluated using metrics such as Mean Squared Error (MSE) and R-squared. The second part of the code addresses crop recommendation using a Random Forest classifier. The crop dataset is loaded, and the target variable is label-encoded for classification. Similar to the rainfall prediction, the dataset is split, and a Random Forest model is trained to recommend crops. The accuracy of the crop recommendation model is evaluated, and the code concludes by predicting the recommended crop based on a new set of weather data, incorporating the predicted rainfall from the first model."
      ],
      "metadata": {
        "id": "mkscUa58vdEw"
      }
    },
    {
      "cell_type": "code",
      "execution_count": null,
      "metadata": {
        "id": "uBZweXFsTL4P"
      },
      "outputs": [],
      "source": [
        "import pandas as pd\n",
        "from sklearn.model_selection import train_test_split\n",
        "from xgboost import XGBRegressor\n",
        "from sklearn.metrics import mean_squared_error, r2_score\n",
        "from sklearn.ensemble import RandomForestClassifier\n",
        "from sklearn.metrics import accuracy_score, classification_report\n",
        "from sklearn.preprocessing import StandardScaler, LabelEncoder\n",
        "from sklearn.impute import SimpleImputer\n",
        "from sklearn.compose import ColumnTransformer\n",
        "from sklearn.pipeline import make_pipeline"
      ]
    },
    {
      "cell_type": "code",
      "source": [
        "# Loading weather dataset\n",
        "weather_data = pd.read_csv('weather.csv')\n",
        "weather_data = weather_data.drop(columns=['time'])"
      ],
      "metadata": {
        "colab": {
          "base_uri": "https://localhost:8080/"
        },
        "id": "voi9fqtjriKz",
        "outputId": "7c44151b-fe8b-4486-97ba-f4c57f4c0e23"
      },
      "execution_count": null,
      "outputs": [
        {
          "output_type": "stream",
          "name": "stderr",
          "text": [
            "<ipython-input-7-fe0c82a996de>:2: DtypeWarning: Columns (1,2,3) have mixed types. Specify dtype option on import or set low_memory=False.\n",
            "  weather_data = pd.read_csv('weather.csv')\n"
          ]
        }
      ]
    },
    {
      "cell_type": "code",
      "source": [
        "# Separating features as (X_rain) and target variable as (y_rain)\n",
        "X_rain = weather_data.drop(columns=['rain (mm)'])\n",
        "y_rain = weather_data['rain (mm)']\n",
        "y_rain = y_rain.fillna(0)"
      ],
      "metadata": {
        "id": "aGzUhb5cribO"
      },
      "execution_count": null,
      "outputs": []
    },
    {
      "cell_type": "code",
      "source": [
        "# Splitting the data for rainfall prediction\n",
        "X_rain_train, X_rain_test, y_rain_train, y_rain_test = train_test_split(X_rain, y_rain, test_size=0.2, random_state=42)"
      ],
      "metadata": {
        "id": "hb8ZLhIwr0dK"
      },
      "execution_count": null,
      "outputs": []
    },
    {
      "cell_type": "code",
      "source": [
        "# Further preprocessing for rainfall prediction\n",
        "numeric_features_rain = X_rain.select_dtypes(include=['float64']).columns\n",
        "numeric_transformer_rain = make_pipeline(\n",
        "    SimpleImputer(strategy='mean'),\n",
        "    StandardScaler()\n",
        ")\n",
        "\n",
        "preprocessor_rain = ColumnTransformer(\n",
        "    transformers=[\n",
        "        ('num', numeric_transformer_rain, numeric_features_rain)\n",
        "    ])"
      ],
      "metadata": {
        "id": "gwd-b-cYrih0"
      },
      "execution_count": null,
      "outputs": []
    },
    {
      "cell_type": "code",
      "source": [
        "# Creating the rainfall prediction model pipeline\n",
        "model_xgb_rain = make_pipeline(preprocessor_rain, XGBRegressor(random_state=42))"
      ],
      "metadata": {
        "id": "uSWYhIDtr7bA"
      },
      "execution_count": null,
      "outputs": []
    },
    {
      "cell_type": "code",
      "source": [
        "# Training the rainfall prediction model\n",
        "model_xgb_rain.fit(X_rain_train, y_rain_train)\n",
        "\n",
        "# Making predictions on the rainfall test set\n",
        "y_pred_rain = model_xgb_rain.predict(X_rain_test)"
      ],
      "metadata": {
        "id": "7nns2SwEr7eA"
      },
      "execution_count": null,
      "outputs": []
    },
    {
      "cell_type": "code",
      "source": [
        "# Evaluating the rainfall prediction model using MSE\n",
        "mse_rain = mean_squared_error(y_rain_test, y_pred_rain)\n",
        "\n",
        "print(f'Mean Squared Error (Rainfall Prediction): {mse_rain}')"
      ],
      "metadata": {
        "colab": {
          "base_uri": "https://localhost:8080/"
        },
        "id": "IEvKKIzasNXS",
        "outputId": "c9a4cde6-a8f7-4c42-be63-4d6fdd668978"
      },
      "execution_count": null,
      "outputs": [
        {
          "output_type": "stream",
          "name": "stdout",
          "text": [
            "Mean Squared Error (Rainfall Prediction): 0.3772330390036125\n"
          ]
        }
      ]
    },
    {
      "cell_type": "code",
      "source": [
        "# Loading the crop recommendation dataset\n",
        "crop_data = pd.read_csv('Crop_recommendation.csv')\n",
        "\n",
        "# Separating features as(X_crop) and target variable as (y_crop)\n",
        "X_crop = crop_data.drop(columns=['label'])\n",
        "y_crop = crop_data['label']\n"
      ],
      "metadata": {
        "id": "YHmNCJJmr7g8"
      },
      "execution_count": null,
      "outputs": []
    },
    {
      "cell_type": "code",
      "source": [
        "# Label encoding the target variable for crop recommendation\n",
        "le_crop = LabelEncoder()\n",
        "y_crop = le_crop.fit_transform(y_crop)"
      ],
      "metadata": {
        "id": "7sY81Yuar7kF"
      },
      "execution_count": null,
      "outputs": []
    },
    {
      "cell_type": "code",
      "source": [
        "# Splitting the data for crop recommendation\n",
        "X_crop_train, X_crop_test, y_crop_train, y_crop_test = train_test_split(X_crop, y_crop, test_size=0.2, random_state=42)"
      ],
      "metadata": {
        "id": "BQaQrVfPr7nA"
      },
      "execution_count": null,
      "outputs": []
    },
    {
      "cell_type": "code",
      "source": [
        "# Creating the crop recommendation model pipeline\n",
        "model_crop = make_pipeline(RandomForestClassifier(n_estimators=100, random_state=42))"
      ],
      "metadata": {
        "id": "ozefcHfur7qU"
      },
      "execution_count": null,
      "outputs": []
    },
    {
      "cell_type": "code",
      "source": [
        "# Training the crop recommendation model\n",
        "model_crop.fit(X_crop_train, y_crop_train)\n",
        "\n",
        "# Making predictions on the crop recommendation test set\n",
        "y_pred_crop = model_crop.predict(X_crop_test)"
      ],
      "metadata": {
        "id": "FOzrX7r_ssqL"
      },
      "execution_count": null,
      "outputs": []
    },
    {
      "cell_type": "code",
      "source": [
        "# Evaluating the crop recommendation model for Accuracy and classification report\n",
        "accuracy_crop = accuracy_score(y_crop_test, y_pred_crop)\n",
        "print(f'Accuracy (Crop Recommendation): {accuracy_crop}')\n",
        "print('Classification Report (Crop Recommendation):')\n",
        "print(classification_report(y_crop_test, y_pred_crop))"
      ],
      "metadata": {
        "colab": {
          "base_uri": "https://localhost:8080/"
        },
        "id": "oc7MFxjossuB",
        "outputId": "be146be6-841d-4f35-87cb-da823475bca6"
      },
      "execution_count": null,
      "outputs": [
        {
          "output_type": "stream",
          "name": "stdout",
          "text": [
            "Accuracy (Crop Recommendation): 0.9931818181818182\n",
            "Classification Report (Crop Recommendation):\n",
            "              precision    recall  f1-score   support\n",
            "\n",
            "           0       1.00      1.00      1.00        23\n",
            "           1       1.00      1.00      1.00        21\n",
            "           2       1.00      1.00      1.00        20\n",
            "           3       1.00      1.00      1.00        26\n",
            "           4       1.00      1.00      1.00        27\n",
            "           5       1.00      1.00      1.00        17\n",
            "           6       1.00      1.00      1.00        17\n",
            "           7       1.00      1.00      1.00        14\n",
            "           8       0.92      1.00      0.96        23\n",
            "           9       1.00      1.00      1.00        20\n",
            "          10       0.92      1.00      0.96        11\n",
            "          11       1.00      1.00      1.00        21\n",
            "          12       1.00      1.00      1.00        19\n",
            "          13       1.00      0.96      0.98        24\n",
            "          14       1.00      1.00      1.00        19\n",
            "          15       1.00      1.00      1.00        17\n",
            "          16       1.00      1.00      1.00        14\n",
            "          17       1.00      1.00      1.00        23\n",
            "          18       1.00      1.00      1.00        23\n",
            "          19       1.00      1.00      1.00        23\n",
            "          20       1.00      0.89      0.94        19\n",
            "          21       1.00      1.00      1.00        19\n",
            "\n",
            "    accuracy                           0.99       440\n",
            "   macro avg       0.99      0.99      0.99       440\n",
            "weighted avg       0.99      0.99      0.99       440\n",
            "\n"
          ]
        }
      ]
    },
    {
      "cell_type": "code",
      "source": [
        "# Making predictions for new weather data\n",
        "new_weather_data = pd.DataFrame({\n",
        "    'N': [0],\n",
        "    'P': [0],\n",
        "    'K': [0],\n",
        "    'temperature': [0],\n",
        "    'humidity': [0],\n",
        "    'ph': [0],\n",
        "    'rainfall': [y_pred_rain[-1]]  # Using the predicted rainfall for the last month\n",
        "})\n",
        "\n",
        "# Using the trained crop recommendation model to predict the recommended crop\n",
        "predicted_crop = le_crop.inverse_transform(model_crop.predict(new_weather_data))\n",
        "print(f'Recommended Crop: {predicted_crop[0]}')"
      ],
      "metadata": {
        "colab": {
          "base_uri": "https://localhost:8080/"
        },
        "id": "25hP9Q2EssxX",
        "outputId": "90036ab3-2df5-4ed5-c536-e938f4bbd307"
      },
      "execution_count": null,
      "outputs": [
        {
          "output_type": "stream",
          "name": "stdout",
          "text": [
            "Recommended Crop: kidneybeans\n"
          ]
        }
      ]
    }
  ]
}